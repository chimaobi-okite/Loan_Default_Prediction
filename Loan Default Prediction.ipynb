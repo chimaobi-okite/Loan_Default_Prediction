{
 "cells": [
  {
   "cell_type": "markdown",
   "id": "05d25901",
   "metadata": {},
   "source": [
    "## Problem Statement\n",
    "\n",
    "SuperLender is a local digital lending company, which prides itself in its effective use of credit risk models to deliver profitable and high-impact loan alternative. Its assessment approach is based on two main risk drivers of loan default prediction:. 1) willingness to pay and 2) ability to pay. Since not all customers pay back, the company invests in experienced data scientist to build robust models to effectively predict the odds of repayment.\n",
    "\n",
    "These two fundamental drivers need to be determined at the point of each application to allow the credit grantor to make a calculated decision based on repayment odds, which in turn determines if an applicant should get a loan, and if so - what the size, price and tenure of the offer will be.\n",
    "\n",
    "There are two types of risk models in general: New business risk, which would be used to assess the risk of application(s) associated with the first loan that he/she applies. The second is a repeat or behaviour risk model, in which case the customer has been a client and applies for a repeat loan. In the latter case - we will have additional performance on how he/she repaid their prior loans, which we can incorporate into our risk model.\n",
    "\n",
    "### Task\n",
    "Build a model to predict if a loan was good or bad, i.e. accurately predict binary outcome variable, where Good is 1 and Bad is 0."
   ]
  },
  {
   "cell_type": "markdown",
   "id": "c62975a8",
   "metadata": {},
   "source": [
    "### Load the necessary libraries"
   ]
  },
  {
   "cell_type": "code",
   "execution_count": 1,
   "id": "9b603c56",
   "metadata": {},
   "outputs": [],
   "source": [
    "import pandas as pd\n",
    "import numpy as np\n",
    "from datetime import datetime\n",
    "import matplotlib.pyplot  as plt\n",
    "import seaborn as sns"
   ]
  },
  {
   "cell_type": "markdown",
   "id": "541ecf43",
   "metadata": {},
   "source": [
    "### Load the Datasets"
   ]
  },
  {
   "cell_type": "code",
   "execution_count": 2,
   "id": "50be380d",
   "metadata": {},
   "outputs": [],
   "source": [
    "traindemographics = pd.read_csv('loan datasets/traindemographics.csv')\n",
    "trainperf =  pd.read_csv('loan datasets/trainperf.csv')\n",
    "trainprev = pd.read_csv('loan datasets/trainprevloans.csv')"
   ]
  },
  {
   "cell_type": "code",
   "execution_count": 3,
   "id": "dc642851",
   "metadata": {},
   "outputs": [],
   "source": [
    "# Load the test set\n",
    "testdemographics = pd.read_csv('loan datasets/testdemographics.csv')\n",
    "testperf =  pd.read_csv('loan datasets/testperf.csv')\n",
    "testprev = pd.read_csv('loan datasets/testprevloans.csv')"
   ]
  },
  {
   "cell_type": "code",
   "execution_count": 4,
   "id": "1f6c37bc",
   "metadata": {},
   "outputs": [
    {
     "data": {
      "text/html": [
       "<div>\n",
       "<style scoped>\n",
       "    .dataframe tbody tr th:only-of-type {\n",
       "        vertical-align: middle;\n",
       "    }\n",
       "\n",
       "    .dataframe tbody tr th {\n",
       "        vertical-align: top;\n",
       "    }\n",
       "\n",
       "    .dataframe thead th {\n",
       "        text-align: right;\n",
       "    }\n",
       "</style>\n",
       "<table border=\"1\" class=\"dataframe\">\n",
       "  <thead>\n",
       "    <tr style=\"text-align: right;\">\n",
       "      <th></th>\n",
       "      <th>customerid</th>\n",
       "      <th>birthdate</th>\n",
       "      <th>bank_account_type</th>\n",
       "      <th>longitude_gps</th>\n",
       "      <th>latitude_gps</th>\n",
       "      <th>bank_name_clients</th>\n",
       "      <th>bank_branch_clients</th>\n",
       "      <th>employment_status_clients</th>\n",
       "      <th>level_of_education_clients</th>\n",
       "    </tr>\n",
       "  </thead>\n",
       "  <tbody>\n",
       "    <tr>\n",
       "      <th>0</th>\n",
       "      <td>8a858e135cb22031015cbafc76964ebd</td>\n",
       "      <td>1973-10-10 00:00:00.000000</td>\n",
       "      <td>Savings</td>\n",
       "      <td>3.319219</td>\n",
       "      <td>6.528604</td>\n",
       "      <td>GT Bank</td>\n",
       "      <td>NaN</td>\n",
       "      <td>NaN</td>\n",
       "      <td>NaN</td>\n",
       "    </tr>\n",
       "    <tr>\n",
       "      <th>1</th>\n",
       "      <td>8a858e275c7ea5ec015c82482d7c3996</td>\n",
       "      <td>1986-01-21 00:00:00.000000</td>\n",
       "      <td>Savings</td>\n",
       "      <td>3.325598</td>\n",
       "      <td>7.119403</td>\n",
       "      <td>Sterling Bank</td>\n",
       "      <td>NaN</td>\n",
       "      <td>Permanent</td>\n",
       "      <td>NaN</td>\n",
       "    </tr>\n",
       "    <tr>\n",
       "      <th>2</th>\n",
       "      <td>8a858e5b5bd99460015bdc95cd485634</td>\n",
       "      <td>1987-04-01 00:00:00.000000</td>\n",
       "      <td>Savings</td>\n",
       "      <td>5.746100</td>\n",
       "      <td>5.563174</td>\n",
       "      <td>Fidelity Bank</td>\n",
       "      <td>NaN</td>\n",
       "      <td>NaN</td>\n",
       "      <td>NaN</td>\n",
       "    </tr>\n",
       "    <tr>\n",
       "      <th>3</th>\n",
       "      <td>8a858efd5ca70688015cabd1f1e94b55</td>\n",
       "      <td>1991-07-19 00:00:00.000000</td>\n",
       "      <td>Savings</td>\n",
       "      <td>3.362850</td>\n",
       "      <td>6.642485</td>\n",
       "      <td>GT Bank</td>\n",
       "      <td>NaN</td>\n",
       "      <td>Permanent</td>\n",
       "      <td>NaN</td>\n",
       "    </tr>\n",
       "    <tr>\n",
       "      <th>4</th>\n",
       "      <td>8a858e785acd3412015acd48f4920d04</td>\n",
       "      <td>1982-11-22 00:00:00.000000</td>\n",
       "      <td>Savings</td>\n",
       "      <td>8.455332</td>\n",
       "      <td>11.971410</td>\n",
       "      <td>GT Bank</td>\n",
       "      <td>NaN</td>\n",
       "      <td>Permanent</td>\n",
       "      <td>NaN</td>\n",
       "    </tr>\n",
       "  </tbody>\n",
       "</table>\n",
       "</div>"
      ],
      "text/plain": [
       "                         customerid                   birthdate  \\\n",
       "0  8a858e135cb22031015cbafc76964ebd  1973-10-10 00:00:00.000000   \n",
       "1  8a858e275c7ea5ec015c82482d7c3996  1986-01-21 00:00:00.000000   \n",
       "2  8a858e5b5bd99460015bdc95cd485634  1987-04-01 00:00:00.000000   \n",
       "3  8a858efd5ca70688015cabd1f1e94b55  1991-07-19 00:00:00.000000   \n",
       "4  8a858e785acd3412015acd48f4920d04  1982-11-22 00:00:00.000000   \n",
       "\n",
       "  bank_account_type  longitude_gps  latitude_gps bank_name_clients  \\\n",
       "0           Savings       3.319219      6.528604           GT Bank   \n",
       "1           Savings       3.325598      7.119403     Sterling Bank   \n",
       "2           Savings       5.746100      5.563174     Fidelity Bank   \n",
       "3           Savings       3.362850      6.642485           GT Bank   \n",
       "4           Savings       8.455332     11.971410           GT Bank   \n",
       "\n",
       "  bank_branch_clients employment_status_clients level_of_education_clients  \n",
       "0                 NaN                       NaN                        NaN  \n",
       "1                 NaN                 Permanent                        NaN  \n",
       "2                 NaN                       NaN                        NaN  \n",
       "3                 NaN                 Permanent                        NaN  \n",
       "4                 NaN                 Permanent                        NaN  "
      ]
     },
     "execution_count": 4,
     "metadata": {},
     "output_type": "execute_result"
    }
   ],
   "source": [
    "traindemographics.head()"
   ]
  },
  {
   "cell_type": "code",
   "execution_count": 5,
   "id": "b196e0c2",
   "metadata": {},
   "outputs": [
    {
     "data": {
      "text/html": [
       "<div>\n",
       "<style scoped>\n",
       "    .dataframe tbody tr th:only-of-type {\n",
       "        vertical-align: middle;\n",
       "    }\n",
       "\n",
       "    .dataframe tbody tr th {\n",
       "        vertical-align: top;\n",
       "    }\n",
       "\n",
       "    .dataframe thead th {\n",
       "        text-align: right;\n",
       "    }\n",
       "</style>\n",
       "<table border=\"1\" class=\"dataframe\">\n",
       "  <thead>\n",
       "    <tr style=\"text-align: right;\">\n",
       "      <th></th>\n",
       "      <th>customerid</th>\n",
       "      <th>systemloanid</th>\n",
       "      <th>loannumber</th>\n",
       "      <th>approveddate</th>\n",
       "      <th>creationdate</th>\n",
       "      <th>loanamount</th>\n",
       "      <th>totaldue</th>\n",
       "      <th>termdays</th>\n",
       "      <th>referredby</th>\n",
       "      <th>good_bad_flag</th>\n",
       "    </tr>\n",
       "  </thead>\n",
       "  <tbody>\n",
       "    <tr>\n",
       "      <th>0</th>\n",
       "      <td>8a2a81a74ce8c05d014cfb32a0da1049</td>\n",
       "      <td>301994762</td>\n",
       "      <td>12</td>\n",
       "      <td>2017-07-25 08:22:56.000000</td>\n",
       "      <td>2017-07-25 07:22:47.000000</td>\n",
       "      <td>30000.0</td>\n",
       "      <td>34500.0</td>\n",
       "      <td>30</td>\n",
       "      <td>NaN</td>\n",
       "      <td>Good</td>\n",
       "    </tr>\n",
       "    <tr>\n",
       "      <th>1</th>\n",
       "      <td>8a85886e54beabf90154c0a29ae757c0</td>\n",
       "      <td>301965204</td>\n",
       "      <td>2</td>\n",
       "      <td>2017-07-05 17:04:41.000000</td>\n",
       "      <td>2017-07-05 16:04:18.000000</td>\n",
       "      <td>15000.0</td>\n",
       "      <td>17250.0</td>\n",
       "      <td>30</td>\n",
       "      <td>NaN</td>\n",
       "      <td>Good</td>\n",
       "    </tr>\n",
       "    <tr>\n",
       "      <th>2</th>\n",
       "      <td>8a8588f35438fe12015444567666018e</td>\n",
       "      <td>301966580</td>\n",
       "      <td>7</td>\n",
       "      <td>2017-07-06 14:52:57.000000</td>\n",
       "      <td>2017-07-06 13:52:51.000000</td>\n",
       "      <td>20000.0</td>\n",
       "      <td>22250.0</td>\n",
       "      <td>15</td>\n",
       "      <td>NaN</td>\n",
       "      <td>Good</td>\n",
       "    </tr>\n",
       "    <tr>\n",
       "      <th>3</th>\n",
       "      <td>8a85890754145ace015429211b513e16</td>\n",
       "      <td>301999343</td>\n",
       "      <td>3</td>\n",
       "      <td>2017-07-27 19:00:41.000000</td>\n",
       "      <td>2017-07-27 18:00:35.000000</td>\n",
       "      <td>10000.0</td>\n",
       "      <td>11500.0</td>\n",
       "      <td>15</td>\n",
       "      <td>NaN</td>\n",
       "      <td>Good</td>\n",
       "    </tr>\n",
       "    <tr>\n",
       "      <th>4</th>\n",
       "      <td>8a858970548359cc0154883481981866</td>\n",
       "      <td>301962360</td>\n",
       "      <td>9</td>\n",
       "      <td>2017-07-03 23:42:45.000000</td>\n",
       "      <td>2017-07-03 22:42:39.000000</td>\n",
       "      <td>40000.0</td>\n",
       "      <td>44000.0</td>\n",
       "      <td>30</td>\n",
       "      <td>NaN</td>\n",
       "      <td>Good</td>\n",
       "    </tr>\n",
       "  </tbody>\n",
       "</table>\n",
       "</div>"
      ],
      "text/plain": [
       "                         customerid  systemloanid  loannumber  \\\n",
       "0  8a2a81a74ce8c05d014cfb32a0da1049     301994762          12   \n",
       "1  8a85886e54beabf90154c0a29ae757c0     301965204           2   \n",
       "2  8a8588f35438fe12015444567666018e     301966580           7   \n",
       "3  8a85890754145ace015429211b513e16     301999343           3   \n",
       "4  8a858970548359cc0154883481981866     301962360           9   \n",
       "\n",
       "                 approveddate                creationdate  loanamount  \\\n",
       "0  2017-07-25 08:22:56.000000  2017-07-25 07:22:47.000000     30000.0   \n",
       "1  2017-07-05 17:04:41.000000  2017-07-05 16:04:18.000000     15000.0   \n",
       "2  2017-07-06 14:52:57.000000  2017-07-06 13:52:51.000000     20000.0   \n",
       "3  2017-07-27 19:00:41.000000  2017-07-27 18:00:35.000000     10000.0   \n",
       "4  2017-07-03 23:42:45.000000  2017-07-03 22:42:39.000000     40000.0   \n",
       "\n",
       "   totaldue  termdays referredby good_bad_flag  \n",
       "0   34500.0        30        NaN          Good  \n",
       "1   17250.0        30        NaN          Good  \n",
       "2   22250.0        15        NaN          Good  \n",
       "3   11500.0        15        NaN          Good  \n",
       "4   44000.0        30        NaN          Good  "
      ]
     },
     "execution_count": 5,
     "metadata": {},
     "output_type": "execute_result"
    }
   ],
   "source": [
    "trainperf.head()"
   ]
  },
  {
   "cell_type": "code",
   "execution_count": 6,
   "id": "37018421",
   "metadata": {},
   "outputs": [
    {
     "data": {
      "text/html": [
       "<div>\n",
       "<style scoped>\n",
       "    .dataframe tbody tr th:only-of-type {\n",
       "        vertical-align: middle;\n",
       "    }\n",
       "\n",
       "    .dataframe tbody tr th {\n",
       "        vertical-align: top;\n",
       "    }\n",
       "\n",
       "    .dataframe thead th {\n",
       "        text-align: right;\n",
       "    }\n",
       "</style>\n",
       "<table border=\"1\" class=\"dataframe\">\n",
       "  <thead>\n",
       "    <tr style=\"text-align: right;\">\n",
       "      <th></th>\n",
       "      <th>customerid</th>\n",
       "      <th>systemloanid</th>\n",
       "      <th>loannumber</th>\n",
       "      <th>approveddate</th>\n",
       "      <th>creationdate</th>\n",
       "      <th>loanamount</th>\n",
       "      <th>totaldue</th>\n",
       "      <th>termdays</th>\n",
       "      <th>closeddate</th>\n",
       "      <th>referredby</th>\n",
       "      <th>firstduedate</th>\n",
       "      <th>firstrepaiddate</th>\n",
       "    </tr>\n",
       "  </thead>\n",
       "  <tbody>\n",
       "    <tr>\n",
       "      <th>0</th>\n",
       "      <td>8a2a81a74ce8c05d014cfb32a0da1049</td>\n",
       "      <td>301682320</td>\n",
       "      <td>2</td>\n",
       "      <td>2016-08-15 18:22:40.000000</td>\n",
       "      <td>2016-08-15 17:22:32.000000</td>\n",
       "      <td>10000.0</td>\n",
       "      <td>13000.0</td>\n",
       "      <td>30</td>\n",
       "      <td>2016-09-01 16:06:48.000000</td>\n",
       "      <td>NaN</td>\n",
       "      <td>2016-09-14 00:00:00.000000</td>\n",
       "      <td>2016-09-01 15:51:43.000000</td>\n",
       "    </tr>\n",
       "    <tr>\n",
       "      <th>1</th>\n",
       "      <td>8a2a81a74ce8c05d014cfb32a0da1049</td>\n",
       "      <td>301883808</td>\n",
       "      <td>9</td>\n",
       "      <td>2017-04-28 18:39:07.000000</td>\n",
       "      <td>2017-04-28 17:38:53.000000</td>\n",
       "      <td>10000.0</td>\n",
       "      <td>13000.0</td>\n",
       "      <td>30</td>\n",
       "      <td>2017-05-28 14:44:49.000000</td>\n",
       "      <td>NaN</td>\n",
       "      <td>2017-05-30 00:00:00.000000</td>\n",
       "      <td>2017-05-26 00:00:00.000000</td>\n",
       "    </tr>\n",
       "    <tr>\n",
       "      <th>2</th>\n",
       "      <td>8a2a81a74ce8c05d014cfb32a0da1049</td>\n",
       "      <td>301831714</td>\n",
       "      <td>8</td>\n",
       "      <td>2017-03-05 10:56:25.000000</td>\n",
       "      <td>2017-03-05 09:56:19.000000</td>\n",
       "      <td>20000.0</td>\n",
       "      <td>23800.0</td>\n",
       "      <td>30</td>\n",
       "      <td>2017-04-26 22:18:56.000000</td>\n",
       "      <td>NaN</td>\n",
       "      <td>2017-04-04 00:00:00.000000</td>\n",
       "      <td>2017-04-26 22:03:47.000000</td>\n",
       "    </tr>\n",
       "    <tr>\n",
       "      <th>3</th>\n",
       "      <td>8a8588f35438fe12015444567666018e</td>\n",
       "      <td>301861541</td>\n",
       "      <td>5</td>\n",
       "      <td>2017-04-09 18:25:55.000000</td>\n",
       "      <td>2017-04-09 17:25:42.000000</td>\n",
       "      <td>10000.0</td>\n",
       "      <td>11500.0</td>\n",
       "      <td>15</td>\n",
       "      <td>2017-04-24 01:35:52.000000</td>\n",
       "      <td>NaN</td>\n",
       "      <td>2017-04-24 00:00:00.000000</td>\n",
       "      <td>2017-04-24 00:48:43.000000</td>\n",
       "    </tr>\n",
       "    <tr>\n",
       "      <th>4</th>\n",
       "      <td>8a85890754145ace015429211b513e16</td>\n",
       "      <td>301941754</td>\n",
       "      <td>2</td>\n",
       "      <td>2017-06-17 09:29:57.000000</td>\n",
       "      <td>2017-06-17 08:29:50.000000</td>\n",
       "      <td>10000.0</td>\n",
       "      <td>11500.0</td>\n",
       "      <td>15</td>\n",
       "      <td>2017-07-14 21:18:43.000000</td>\n",
       "      <td>NaN</td>\n",
       "      <td>2017-07-03 00:00:00.000000</td>\n",
       "      <td>2017-07-14 21:08:35.000000</td>\n",
       "    </tr>\n",
       "  </tbody>\n",
       "</table>\n",
       "</div>"
      ],
      "text/plain": [
       "                         customerid  systemloanid  loannumber  \\\n",
       "0  8a2a81a74ce8c05d014cfb32a0da1049     301682320           2   \n",
       "1  8a2a81a74ce8c05d014cfb32a0da1049     301883808           9   \n",
       "2  8a2a81a74ce8c05d014cfb32a0da1049     301831714           8   \n",
       "3  8a8588f35438fe12015444567666018e     301861541           5   \n",
       "4  8a85890754145ace015429211b513e16     301941754           2   \n",
       "\n",
       "                 approveddate                creationdate  loanamount  \\\n",
       "0  2016-08-15 18:22:40.000000  2016-08-15 17:22:32.000000     10000.0   \n",
       "1  2017-04-28 18:39:07.000000  2017-04-28 17:38:53.000000     10000.0   \n",
       "2  2017-03-05 10:56:25.000000  2017-03-05 09:56:19.000000     20000.0   \n",
       "3  2017-04-09 18:25:55.000000  2017-04-09 17:25:42.000000     10000.0   \n",
       "4  2017-06-17 09:29:57.000000  2017-06-17 08:29:50.000000     10000.0   \n",
       "\n",
       "   totaldue  termdays                  closeddate referredby  \\\n",
       "0   13000.0        30  2016-09-01 16:06:48.000000        NaN   \n",
       "1   13000.0        30  2017-05-28 14:44:49.000000        NaN   \n",
       "2   23800.0        30  2017-04-26 22:18:56.000000        NaN   \n",
       "3   11500.0        15  2017-04-24 01:35:52.000000        NaN   \n",
       "4   11500.0        15  2017-07-14 21:18:43.000000        NaN   \n",
       "\n",
       "                 firstduedate             firstrepaiddate  \n",
       "0  2016-09-14 00:00:00.000000  2016-09-01 15:51:43.000000  \n",
       "1  2017-05-30 00:00:00.000000  2017-05-26 00:00:00.000000  \n",
       "2  2017-04-04 00:00:00.000000  2017-04-26 22:03:47.000000  \n",
       "3  2017-04-24 00:00:00.000000  2017-04-24 00:48:43.000000  \n",
       "4  2017-07-03 00:00:00.000000  2017-07-14 21:08:35.000000  "
      ]
     },
     "execution_count": 6,
     "metadata": {},
     "output_type": "execute_result"
    }
   ],
   "source": [
    "trainprev.head()"
   ]
  },
  {
   "cell_type": "code",
   "execution_count": 7,
   "id": "5fc3173c",
   "metadata": {},
   "outputs": [
    {
     "name": "stdout",
     "output_type": "stream",
     "text": [
      "The shape of the train demographics data is (4346, 9)\n",
      "The shape of the train performance data is (4368, 10)\n",
      "The shape of the train previous data is (18183, 12)\n"
     ]
    }
   ],
   "source": [
    "print('The shape of the train demographics data is {}'.format(traindemographics.shape))\n",
    "print('The shape of the train performance data is {}'.format(trainperf.shape))\n",
    "print('The shape of the train previous data is {}'.format(trainprev.shape))"
   ]
  },
  {
   "cell_type": "markdown",
   "id": "ff718c6a",
   "metadata": {},
   "source": [
    "- As seen, this is typical business problem where the data are stored in several tables in a database say loan database\n",
    "- The demographics data of all customers are stored in the demographics table\n",
    "- The data pertaining to previous loans and performance are stored in different tables.\n",
    "- Some customers might have obtained several loans in the past so has several rows in the prev table\n",
    "- The task is predict the if a loan will be good or bad based on the data available.\n",
    "- The challenge will be to bring all the importance info from all three tables into a single table\n",
    "\n",
    "**Let's take a closer look at the trainprev table**"
   ]
  },
  {
   "cell_type": "code",
   "execution_count": 8,
   "id": "40db104b",
   "metadata": {},
   "outputs": [
    {
     "name": "stdout",
     "output_type": "stream",
     "text": [
      "<class 'pandas.core.frame.DataFrame'>\n",
      "RangeIndex: 18183 entries, 0 to 18182\n",
      "Data columns (total 12 columns):\n",
      " #   Column           Non-Null Count  Dtype  \n",
      "---  ------           --------------  -----  \n",
      " 0   customerid       18183 non-null  object \n",
      " 1   systemloanid     18183 non-null  int64  \n",
      " 2   loannumber       18183 non-null  int64  \n",
      " 3   approveddate     18183 non-null  object \n",
      " 4   creationdate     18183 non-null  object \n",
      " 5   loanamount       18183 non-null  float64\n",
      " 6   totaldue         18183 non-null  float64\n",
      " 7   termdays         18183 non-null  int64  \n",
      " 8   closeddate       18183 non-null  object \n",
      " 9   referredby       1026 non-null   object \n",
      " 10  firstduedate     18183 non-null  object \n",
      " 11  firstrepaiddate  18183 non-null  object \n",
      "dtypes: float64(2), int64(3), object(7)\n",
      "memory usage: 1.7+ MB\n"
     ]
    }
   ],
   "source": [
    "trainprev.info()"
   ]
  },
  {
   "cell_type": "code",
   "execution_count": 9,
   "id": "8f95cb5c",
   "metadata": {},
   "outputs": [],
   "source": [
    "## function to convert the object date columns to datetime in loan previous table\n",
    "def object_to_date(data : pd.DataFrame):\n",
    "    data[['approveddate','creationdate','closeddate','firstduedate','firstrepaiddate']] =data[['approveddate','creationdate','closeddate','firstduedate','firstrepaiddate']].apply(pd.to_datetime);"
   ]
  },
  {
   "cell_type": "markdown",
   "id": "f966a089",
   "metadata": {},
   "source": [
    "##### preprocess the prev loan data;\n",
    "* The goal is to:\n",
    "1. form new columns from the data given such as a loan flag for each loan assuming a loan is good if the closeddate is less than the approved date plus termdays\n",
    "2. get a summary dataframe that summarizes the previous loan record of a customer based on the average amount borrowed, avg amount due, prevloancount,prevgoodloan, lastloanflag and probality of such loan being good"
   ]
  },
  {
   "cell_type": "code",
   "execution_count": 10,
   "id": "49fae545",
   "metadata": {},
   "outputs": [],
   "source": [
    "#create function to perform step 1 above\n",
    "def get_loanflag(data):\n",
    "    data['repaymentperiod'] = (data['closeddate'] - data['approveddate']).dt.days\n",
    "    data['firstpayperiod'] = (data['firstrepaiddate'] - data['approveddate']).dt.days\n",
    "    loanflag = []\n",
    "    for i in data.index:\n",
    "        if data['repaymentperiod'][i] > data['termdays'][i]:\n",
    "            loanflag.append(0)\n",
    "        else: loanflag.append(1)\n",
    "\n",
    "    data['loanflag'] = loanflag"
   ]
  },
  {
   "cell_type": "markdown",
   "id": "5749257a",
   "metadata": {},
   "source": [
    "##### Create a new dataframe that contains a summary of each customers previous loan "
   ]
  },
  {
   "cell_type": "code",
   "execution_count": 11,
   "id": "0851ddd2",
   "metadata": {},
   "outputs": [],
   "source": [
    "def prev_summary(data) : \n",
    "    newprev = data.groupby('customerid', sort= False)[['loanamount','totaldue']].mean()\n",
    "    newprev['prevloancount'] =  data.groupby('customerid',sort= False)['loanflag'].count()\n",
    "    newprev['prevgoodcount'] = data.groupby('customerid',sort= False)['loanflag'].sum()\n",
    "    newprev['probofpay'] = newprev['prevgoodcount']/newprev['prevloancount']\n",
    "    lastloanstatus = data.sort_values(by='approveddate', ascending=False).groupby('customerid')['loanflag'].first()\n",
    "    summarydata = newprev.reset_index().merge(lastloanstatus.reset_index(),on='customerid')\n",
    "    return summarydata"
   ]
  },
  {
   "cell_type": "markdown",
   "id": "15a9a873",
   "metadata": {},
   "source": [
    "##### apply functions above on train prev data"
   ]
  },
  {
   "cell_type": "code",
   "execution_count": 12,
   "id": "a041fb6a",
   "metadata": {},
   "outputs": [],
   "source": [
    "object_to_date(trainprev)\n",
    "get_loanflag(trainprev)\n",
    "trainprevsummary = prev_summary(trainprev)"
   ]
  },
  {
   "cell_type": "code",
   "execution_count": 13,
   "id": "6eb5a13f",
   "metadata": {},
   "outputs": [
    {
     "data": {
      "text/html": [
       "<div>\n",
       "<style scoped>\n",
       "    .dataframe tbody tr th:only-of-type {\n",
       "        vertical-align: middle;\n",
       "    }\n",
       "\n",
       "    .dataframe tbody tr th {\n",
       "        vertical-align: top;\n",
       "    }\n",
       "\n",
       "    .dataframe thead th {\n",
       "        text-align: right;\n",
       "    }\n",
       "</style>\n",
       "<table border=\"1\" class=\"dataframe\">\n",
       "  <thead>\n",
       "    <tr style=\"text-align: right;\">\n",
       "      <th></th>\n",
       "      <th>customerid</th>\n",
       "      <th>avprevloanamount</th>\n",
       "      <th>avgprevtotaldue</th>\n",
       "      <th>prevloancount</th>\n",
       "      <th>prevgoodcount</th>\n",
       "      <th>probofpay</th>\n",
       "      <th>loanflag</th>\n",
       "    </tr>\n",
       "  </thead>\n",
       "  <tbody>\n",
       "    <tr>\n",
       "      <th>0</th>\n",
       "      <td>8a2a81a74ce8c05d014cfb32a0da1049</td>\n",
       "      <td>18181.818182</td>\n",
       "      <td>22081.818182</td>\n",
       "      <td>11</td>\n",
       "      <td>8</td>\n",
       "      <td>0.727273</td>\n",
       "      <td>1</td>\n",
       "    </tr>\n",
       "    <tr>\n",
       "      <th>1</th>\n",
       "      <td>8a8588f35438fe12015444567666018e</td>\n",
       "      <td>10000.000000</td>\n",
       "      <td>11750.000000</td>\n",
       "      <td>6</td>\n",
       "      <td>5</td>\n",
       "      <td>0.833333</td>\n",
       "      <td>1</td>\n",
       "    </tr>\n",
       "    <tr>\n",
       "      <th>2</th>\n",
       "      <td>8a85890754145ace015429211b513e16</td>\n",
       "      <td>10000.000000</td>\n",
       "      <td>12250.000000</td>\n",
       "      <td>2</td>\n",
       "      <td>0</td>\n",
       "      <td>0.000000</td>\n",
       "      <td>0</td>\n",
       "    </tr>\n",
       "    <tr>\n",
       "      <th>3</th>\n",
       "      <td>8a858970548359cc0154883481981866</td>\n",
       "      <td>18750.000000</td>\n",
       "      <td>23550.000000</td>\n",
       "      <td>8</td>\n",
       "      <td>8</td>\n",
       "      <td>1.000000</td>\n",
       "      <td>1</td>\n",
       "    </tr>\n",
       "    <tr>\n",
       "      <th>4</th>\n",
       "      <td>8a8589f35451855401546b0738c42524</td>\n",
       "      <td>14285.714286</td>\n",
       "      <td>17828.571429</td>\n",
       "      <td>7</td>\n",
       "      <td>6</td>\n",
       "      <td>0.857143</td>\n",
       "      <td>1</td>\n",
       "    </tr>\n",
       "  </tbody>\n",
       "</table>\n",
       "</div>"
      ],
      "text/plain": [
       "                         customerid  avprevloanamount  avgprevtotaldue  \\\n",
       "0  8a2a81a74ce8c05d014cfb32a0da1049      18181.818182     22081.818182   \n",
       "1  8a8588f35438fe12015444567666018e      10000.000000     11750.000000   \n",
       "2  8a85890754145ace015429211b513e16      10000.000000     12250.000000   \n",
       "3  8a858970548359cc0154883481981866      18750.000000     23550.000000   \n",
       "4  8a8589f35451855401546b0738c42524      14285.714286     17828.571429   \n",
       "\n",
       "   prevloancount  prevgoodcount  probofpay  loanflag  \n",
       "0             11              8   0.727273         1  \n",
       "1              6              5   0.833333         1  \n",
       "2              2              0   0.000000         0  \n",
       "3              8              8   1.000000         1  \n",
       "4              7              6   0.857143         1  "
      ]
     },
     "execution_count": 13,
     "metadata": {},
     "output_type": "execute_result"
    }
   ],
   "source": [
    "trainprevsummary = trainprevsummary.rename(columns={'loanamount':'avprevloanamount','totaldue':'avgprevtotaldue'})\n",
    "trainprevsummary.head()"
   ]
  },
  {
   "cell_type": "markdown",
   "id": "088ba8af",
   "metadata": {},
   "source": [
    "##### apply functions above to test prev data"
   ]
  },
  {
   "cell_type": "code",
   "execution_count": 14,
   "id": "9e43b7fa",
   "metadata": {},
   "outputs": [],
   "source": [
    "object_to_date(testprev)\n",
    "get_loanflag(testprev)\n",
    "testprevsummary = prev_summary(testprev)"
   ]
  },
  {
   "cell_type": "code",
   "execution_count": 15,
   "id": "16ba6c3d",
   "metadata": {},
   "outputs": [
    {
     "data": {
      "text/html": [
       "<div>\n",
       "<style scoped>\n",
       "    .dataframe tbody tr th:only-of-type {\n",
       "        vertical-align: middle;\n",
       "    }\n",
       "\n",
       "    .dataframe tbody tr th {\n",
       "        vertical-align: top;\n",
       "    }\n",
       "\n",
       "    .dataframe thead th {\n",
       "        text-align: right;\n",
       "    }\n",
       "</style>\n",
       "<table border=\"1\" class=\"dataframe\">\n",
       "  <thead>\n",
       "    <tr style=\"text-align: right;\">\n",
       "      <th></th>\n",
       "      <th>customerid</th>\n",
       "      <th>avprevloanamount</th>\n",
       "      <th>avgprevtotaldue</th>\n",
       "      <th>prevloancount</th>\n",
       "      <th>prevgoodcount</th>\n",
       "      <th>probofpay</th>\n",
       "      <th>loanflag</th>\n",
       "    </tr>\n",
       "  </thead>\n",
       "  <tbody>\n",
       "    <tr>\n",
       "      <th>0</th>\n",
       "      <td>8a858899538ddb8e015390510b321f08</td>\n",
       "      <td>8666.666667</td>\n",
       "      <td>10966.666667</td>\n",
       "      <td>3</td>\n",
       "      <td>2</td>\n",
       "      <td>0.666667</td>\n",
       "      <td>1</td>\n",
       "    </tr>\n",
       "    <tr>\n",
       "      <th>1</th>\n",
       "      <td>8a858959537a097401537a4e316e25f7</td>\n",
       "      <td>23888.888889</td>\n",
       "      <td>27600.000000</td>\n",
       "      <td>9</td>\n",
       "      <td>8</td>\n",
       "      <td>0.888889</td>\n",
       "      <td>1</td>\n",
       "    </tr>\n",
       "    <tr>\n",
       "      <th>2</th>\n",
       "      <td>8a8589c253ace09b0153af6ba58f1f31</td>\n",
       "      <td>13000.000000</td>\n",
       "      <td>15935.000000</td>\n",
       "      <td>5</td>\n",
       "      <td>2</td>\n",
       "      <td>0.400000</td>\n",
       "      <td>1</td>\n",
       "    </tr>\n",
       "    <tr>\n",
       "      <th>3</th>\n",
       "      <td>8a858e095aae82b7015aae86ca1e030b</td>\n",
       "      <td>17142.857143</td>\n",
       "      <td>19342.857143</td>\n",
       "      <td>7</td>\n",
       "      <td>7</td>\n",
       "      <td>1.000000</td>\n",
       "      <td>1</td>\n",
       "    </tr>\n",
       "    <tr>\n",
       "      <th>4</th>\n",
       "      <td>8a858e225a28c713015a30db5c48383d</td>\n",
       "      <td>10000.000000</td>\n",
       "      <td>12500.000000</td>\n",
       "      <td>3</td>\n",
       "      <td>3</td>\n",
       "      <td>1.000000</td>\n",
       "      <td>1</td>\n",
       "    </tr>\n",
       "  </tbody>\n",
       "</table>\n",
       "</div>"
      ],
      "text/plain": [
       "                         customerid  avprevloanamount  avgprevtotaldue  \\\n",
       "0  8a858899538ddb8e015390510b321f08       8666.666667     10966.666667   \n",
       "1  8a858959537a097401537a4e316e25f7      23888.888889     27600.000000   \n",
       "2  8a8589c253ace09b0153af6ba58f1f31      13000.000000     15935.000000   \n",
       "3  8a858e095aae82b7015aae86ca1e030b      17142.857143     19342.857143   \n",
       "4  8a858e225a28c713015a30db5c48383d      10000.000000     12500.000000   \n",
       "\n",
       "   prevloancount  prevgoodcount  probofpay  loanflag  \n",
       "0              3              2   0.666667         1  \n",
       "1              9              8   0.888889         1  \n",
       "2              5              2   0.400000         1  \n",
       "3              7              7   1.000000         1  \n",
       "4              3              3   1.000000         1  "
      ]
     },
     "execution_count": 15,
     "metadata": {},
     "output_type": "execute_result"
    }
   ],
   "source": [
    "testprevsummary = testprevsummary.rename(columns={'loanamount':'avprevloanamount','totaldue':'avgprevtotaldue'})\n",
    "testprevsummary.head()"
   ]
  },
  {
   "cell_type": "markdown",
   "id": "37dba346",
   "metadata": {},
   "source": [
    "### Merge tables\n",
    "That is merging the customerdemographics table, the performance table and the prev loan summary table to a single dataframe.\n",
    "NB: merge will be on the customer ID and based on the performance table."
   ]
  },
  {
   "cell_type": "code",
   "execution_count": 16,
   "id": "74a0de6e",
   "metadata": {},
   "outputs": [],
   "source": [
    "## merge trainprevsummary demographics to pref data\n",
    "df1 = trainprevsummary.merge(trainperf,how='right',on='customerid')\n",
    "## the merge customer data to the new dataframe\n",
    "train_df = traindemographics.merge(df1,how='right',on='customerid')"
   ]
  },
  {
   "cell_type": "code",
   "execution_count": 17,
   "id": "2d31eb0d",
   "metadata": {},
   "outputs": [],
   "source": [
    "#do same for test\n",
    "df2 = testprevsummary.merge(testperf,how='right',on='customerid')\n",
    "## the merge customer data to the new dataframe\n",
    "test_df = testdemographics.merge(df2,how='right',on='customerid')"
   ]
  },
  {
   "cell_type": "markdown",
   "id": "e1b7eff5",
   "metadata": {},
   "source": [
    "### Explore the data\n",
    "We now have the train and test data as a single dataframe, its time to perform some expository data analysis on it"
   ]
  },
  {
   "cell_type": "code",
   "execution_count": 18,
   "id": "72b98139",
   "metadata": {},
   "outputs": [
    {
     "data": {
      "text/html": [
       "<div>\n",
       "<style scoped>\n",
       "    .dataframe tbody tr th:only-of-type {\n",
       "        vertical-align: middle;\n",
       "    }\n",
       "\n",
       "    .dataframe tbody tr th {\n",
       "        vertical-align: top;\n",
       "    }\n",
       "\n",
       "    .dataframe thead th {\n",
       "        text-align: right;\n",
       "    }\n",
       "</style>\n",
       "<table border=\"1\" class=\"dataframe\">\n",
       "  <thead>\n",
       "    <tr style=\"text-align: right;\">\n",
       "      <th></th>\n",
       "      <th>customerid</th>\n",
       "      <th>birthdate</th>\n",
       "      <th>bank_account_type</th>\n",
       "      <th>longitude_gps</th>\n",
       "      <th>latitude_gps</th>\n",
       "      <th>bank_name_clients</th>\n",
       "      <th>bank_branch_clients</th>\n",
       "      <th>employment_status_clients</th>\n",
       "      <th>level_of_education_clients</th>\n",
       "      <th>avprevloanamount</th>\n",
       "      <th>...</th>\n",
       "      <th>loanflag</th>\n",
       "      <th>systemloanid</th>\n",
       "      <th>loannumber</th>\n",
       "      <th>approveddate</th>\n",
       "      <th>creationdate</th>\n",
       "      <th>loanamount</th>\n",
       "      <th>totaldue</th>\n",
       "      <th>termdays</th>\n",
       "      <th>referredby</th>\n",
       "      <th>good_bad_flag</th>\n",
       "    </tr>\n",
       "  </thead>\n",
       "  <tbody>\n",
       "    <tr>\n",
       "      <th>0</th>\n",
       "      <td>8a2a81a74ce8c05d014cfb32a0da1049</td>\n",
       "      <td>1972-01-15 00:00:00.000000</td>\n",
       "      <td>Other</td>\n",
       "      <td>3.432010</td>\n",
       "      <td>6.433055</td>\n",
       "      <td>Diamond Bank</td>\n",
       "      <td>NaN</td>\n",
       "      <td>Permanent</td>\n",
       "      <td>Post-Graduate</td>\n",
       "      <td>18181.818182</td>\n",
       "      <td>...</td>\n",
       "      <td>1.0</td>\n",
       "      <td>301994762</td>\n",
       "      <td>12</td>\n",
       "      <td>2017-07-25 08:22:56.000000</td>\n",
       "      <td>2017-07-25 07:22:47.000000</td>\n",
       "      <td>30000.0</td>\n",
       "      <td>34500.0</td>\n",
       "      <td>30</td>\n",
       "      <td>NaN</td>\n",
       "      <td>Good</td>\n",
       "    </tr>\n",
       "    <tr>\n",
       "      <th>1</th>\n",
       "      <td>8a85886e54beabf90154c0a29ae757c0</td>\n",
       "      <td>1985-08-23 00:00:00.000000</td>\n",
       "      <td>Savings</td>\n",
       "      <td>3.885298</td>\n",
       "      <td>7.320700</td>\n",
       "      <td>GT Bank</td>\n",
       "      <td>DUGBE,IBADAN</td>\n",
       "      <td>Permanent</td>\n",
       "      <td>Graduate</td>\n",
       "      <td>NaN</td>\n",
       "      <td>...</td>\n",
       "      <td>NaN</td>\n",
       "      <td>301965204</td>\n",
       "      <td>2</td>\n",
       "      <td>2017-07-05 17:04:41.000000</td>\n",
       "      <td>2017-07-05 16:04:18.000000</td>\n",
       "      <td>15000.0</td>\n",
       "      <td>17250.0</td>\n",
       "      <td>30</td>\n",
       "      <td>NaN</td>\n",
       "      <td>Good</td>\n",
       "    </tr>\n",
       "    <tr>\n",
       "      <th>2</th>\n",
       "      <td>8a8588f35438fe12015444567666018e</td>\n",
       "      <td>1984-09-18 00:00:00.000000</td>\n",
       "      <td>Other</td>\n",
       "      <td>11.139350</td>\n",
       "      <td>10.292041</td>\n",
       "      <td>EcoBank</td>\n",
       "      <td>NaN</td>\n",
       "      <td>Permanent</td>\n",
       "      <td>NaN</td>\n",
       "      <td>10000.000000</td>\n",
       "      <td>...</td>\n",
       "      <td>1.0</td>\n",
       "      <td>301966580</td>\n",
       "      <td>7</td>\n",
       "      <td>2017-07-06 14:52:57.000000</td>\n",
       "      <td>2017-07-06 13:52:51.000000</td>\n",
       "      <td>20000.0</td>\n",
       "      <td>22250.0</td>\n",
       "      <td>15</td>\n",
       "      <td>NaN</td>\n",
       "      <td>Good</td>\n",
       "    </tr>\n",
       "    <tr>\n",
       "      <th>3</th>\n",
       "      <td>8a85890754145ace015429211b513e16</td>\n",
       "      <td>1977-10-10 00:00:00.000000</td>\n",
       "      <td>Savings</td>\n",
       "      <td>3.985770</td>\n",
       "      <td>7.491708</td>\n",
       "      <td>First Bank</td>\n",
       "      <td>NaN</td>\n",
       "      <td>Permanent</td>\n",
       "      <td>NaN</td>\n",
       "      <td>10000.000000</td>\n",
       "      <td>...</td>\n",
       "      <td>0.0</td>\n",
       "      <td>301999343</td>\n",
       "      <td>3</td>\n",
       "      <td>2017-07-27 19:00:41.000000</td>\n",
       "      <td>2017-07-27 18:00:35.000000</td>\n",
       "      <td>10000.0</td>\n",
       "      <td>11500.0</td>\n",
       "      <td>15</td>\n",
       "      <td>NaN</td>\n",
       "      <td>Good</td>\n",
       "    </tr>\n",
       "    <tr>\n",
       "      <th>4</th>\n",
       "      <td>8a858970548359cc0154883481981866</td>\n",
       "      <td>1986-09-07 00:00:00.000000</td>\n",
       "      <td>Other</td>\n",
       "      <td>7.457913</td>\n",
       "      <td>9.076574</td>\n",
       "      <td>GT Bank</td>\n",
       "      <td>NaN</td>\n",
       "      <td>Permanent</td>\n",
       "      <td>Primary</td>\n",
       "      <td>18750.000000</td>\n",
       "      <td>...</td>\n",
       "      <td>1.0</td>\n",
       "      <td>301962360</td>\n",
       "      <td>9</td>\n",
       "      <td>2017-07-03 23:42:45.000000</td>\n",
       "      <td>2017-07-03 22:42:39.000000</td>\n",
       "      <td>40000.0</td>\n",
       "      <td>44000.0</td>\n",
       "      <td>30</td>\n",
       "      <td>NaN</td>\n",
       "      <td>Good</td>\n",
       "    </tr>\n",
       "  </tbody>\n",
       "</table>\n",
       "<p>5 rows × 24 columns</p>\n",
       "</div>"
      ],
      "text/plain": [
       "                         customerid                   birthdate  \\\n",
       "0  8a2a81a74ce8c05d014cfb32a0da1049  1972-01-15 00:00:00.000000   \n",
       "1  8a85886e54beabf90154c0a29ae757c0  1985-08-23 00:00:00.000000   \n",
       "2  8a8588f35438fe12015444567666018e  1984-09-18 00:00:00.000000   \n",
       "3  8a85890754145ace015429211b513e16  1977-10-10 00:00:00.000000   \n",
       "4  8a858970548359cc0154883481981866  1986-09-07 00:00:00.000000   \n",
       "\n",
       "  bank_account_type  longitude_gps  latitude_gps bank_name_clients  \\\n",
       "0             Other       3.432010      6.433055      Diamond Bank   \n",
       "1           Savings       3.885298      7.320700           GT Bank   \n",
       "2             Other      11.139350     10.292041           EcoBank   \n",
       "3           Savings       3.985770      7.491708        First Bank   \n",
       "4             Other       7.457913      9.076574           GT Bank   \n",
       "\n",
       "  bank_branch_clients employment_status_clients level_of_education_clients  \\\n",
       "0                 NaN                 Permanent              Post-Graduate   \n",
       "1        DUGBE,IBADAN                 Permanent                   Graduate   \n",
       "2                 NaN                 Permanent                        NaN   \n",
       "3                 NaN                 Permanent                        NaN   \n",
       "4                 NaN                 Permanent                    Primary   \n",
       "\n",
       "   avprevloanamount  ...  loanflag  systemloanid  loannumber  \\\n",
       "0      18181.818182  ...       1.0     301994762          12   \n",
       "1               NaN  ...       NaN     301965204           2   \n",
       "2      10000.000000  ...       1.0     301966580           7   \n",
       "3      10000.000000  ...       0.0     301999343           3   \n",
       "4      18750.000000  ...       1.0     301962360           9   \n",
       "\n",
       "                 approveddate                creationdate  loanamount  \\\n",
       "0  2017-07-25 08:22:56.000000  2017-07-25 07:22:47.000000     30000.0   \n",
       "1  2017-07-05 17:04:41.000000  2017-07-05 16:04:18.000000     15000.0   \n",
       "2  2017-07-06 14:52:57.000000  2017-07-06 13:52:51.000000     20000.0   \n",
       "3  2017-07-27 19:00:41.000000  2017-07-27 18:00:35.000000     10000.0   \n",
       "4  2017-07-03 23:42:45.000000  2017-07-03 22:42:39.000000     40000.0   \n",
       "\n",
       "   totaldue termdays referredby  good_bad_flag  \n",
       "0   34500.0       30        NaN           Good  \n",
       "1   17250.0       30        NaN           Good  \n",
       "2   22250.0       15        NaN           Good  \n",
       "3   11500.0       15        NaN           Good  \n",
       "4   44000.0       30        NaN           Good  \n",
       "\n",
       "[5 rows x 24 columns]"
      ]
     },
     "execution_count": 18,
     "metadata": {},
     "output_type": "execute_result"
    }
   ],
   "source": [
    "## see a preview of the train data\n",
    "train_df.head()"
   ]
  },
  {
   "cell_type": "markdown",
   "id": "e8585e2c",
   "metadata": {},
   "source": [
    "#### Check for missing values"
   ]
  },
  {
   "cell_type": "code",
   "execution_count": 19,
   "id": "9b2e3b42",
   "metadata": {},
   "outputs": [],
   "source": [
    "#function to check missing columns in dataframe\n",
    "def plot_missing(data : pd.DataFrame) :\n",
    "  size = data.shape[0]\n",
    "  missing = data.isnull().sum()[data.isnull().sum() > 0].sort_values()\n",
    "  if not missing.empty :\n",
    "    plot_bar(missing, size)\n",
    "  else:\n",
    "    print('This data contains no missing columns')"
   ]
  },
  {
   "cell_type": "code",
   "execution_count": 20,
   "id": "556d0633",
   "metadata": {},
   "outputs": [],
   "source": [
    "#function that plots missing values\n",
    "def plot_bar(data : pd.Series, size):\n",
    "  ax = data.plot.barh()\n",
    "\n",
    "  for p in ax.patches:\n",
    "    percentage ='{:,.0f}%'.format((p.get_width()/size)*100)\n",
    "    width, height =p.get_width(),p.get_height()\n",
    "    x=p.get_x()+width+0.02\n",
    "    y=p.get_y()+height/2\n",
    "    ax.annotate(percentage,(x,y))"
   ]
  },
  {
   "cell_type": "code",
   "execution_count": 21,
   "id": "d191fbb0",
   "metadata": {},
   "outputs": [
    {
     "data": {
      "image/png": "[encoded data removed]",
      "text/plain": [
       "<Figure size 432x288 with 1 Axes>"
      ]
     },
     "metadata": {
      "needs_background": "light"
     },
     "output_type": "display_data"
    }
   ],
   "source": [
    "plot_missing(train_df)"
   ]
  },
  {
   "cell_type": "code",
   "execution_count": 22,
   "id": "f313d13a",
   "metadata": {},
   "outputs": [
    {
     "data": {
      "image/png": "[encoded data removed]",
      "text/plain": [
       "<Figure size 432x288 with 1 Axes>"
      ]
     },
     "metadata": {
      "needs_background": "light"
     },
     "output_type": "display_data"
    }
   ],
   "source": [
    "plot_missing(test_df)"
   ]
  },
  {
   "cell_type": "code",
   "execution_count": 23,
   "id": "8ad655f8",
   "metadata": {},
   "outputs": [
    {
     "data": {
      "text/plain": [
       "<seaborn.axisgrid.FacetGrid at 0x12a83c5d5e0>"
      ]
     },
     "execution_count": 23,
     "metadata": {},
     "output_type": "execute_result"
    },
    {
     "data": {
      "image/png": "[encoded data removed]",
      "text/plain": [
       "<Figure size 360x360 with 1 Axes>"
      ]
     },
     "metadata": {
      "needs_background": "light"
     },
     "output_type": "display_data"
    }
   ],
   "source": [
    "## explore target\n",
    "sns.catplot(data=train_df,x='good_bad_flag',kind='count')"
   ]
  },
  {
   "cell_type": "code",
   "execution_count": 24,
   "id": "7796f396",
   "metadata": {},
   "outputs": [
    {
     "name": "stdout",
     "output_type": "stream",
     "text": [
      "<class 'pandas.core.frame.DataFrame'>\n",
      "Int64Index: 4376 entries, 0 to 4375\n",
      "Data columns (total 24 columns):\n",
      " #   Column                      Non-Null Count  Dtype  \n",
      "---  ------                      --------------  -----  \n",
      " 0   customerid                  4376 non-null   object \n",
      " 1   birthdate                   3277 non-null   object \n",
      " 2   bank_account_type           3277 non-null   object \n",
      " 3   longitude_gps               3277 non-null   float64\n",
      " 4   latitude_gps                3277 non-null   float64\n",
      " 5   bank_name_clients           3277 non-null   object \n",
      " 6   bank_branch_clients         33 non-null     object \n",
      " 7   employment_status_clients   2784 non-null   object \n",
      " 8   level_of_education_clients  443 non-null    object \n",
      " 9   avprevloanamount            4367 non-null   float64\n",
      " 10  avgprevtotaldue             4367 non-null   float64\n",
      " 11  prevloancount               4367 non-null   float64\n",
      " 12  prevgoodcount               4367 non-null   float64\n",
      " 13  probofpay                   4367 non-null   float64\n",
      " 14  loanflag                    4367 non-null   float64\n",
      " 15  systemloanid                4376 non-null   int64  \n",
      " 16  loannumber                  4376 non-null   int64  \n",
      " 17  approveddate                4376 non-null   object \n",
      " 18  creationdate                4376 non-null   object \n",
      " 19  loanamount                  4376 non-null   float64\n",
      " 20  totaldue                    4376 non-null   float64\n",
      " 21  termdays                    4376 non-null   int64  \n",
      " 22  referredby                  589 non-null    object \n",
      " 23  good_bad_flag               4376 non-null   object \n",
      "dtypes: float64(10), int64(3), object(11)\n",
      "memory usage: 983.7+ KB\n"
     ]
    }
   ],
   "source": [
    "train_df.info()"
   ]
  },
  {
   "cell_type": "code",
   "execution_count": 25,
   "id": "d8cec4d1",
   "metadata": {},
   "outputs": [
    {
     "data": {
      "text/html": [
       "<div>\n",
       "<style scoped>\n",
       "    .dataframe tbody tr th:only-of-type {\n",
       "        vertical-align: middle;\n",
       "    }\n",
       "\n",
       "    .dataframe tbody tr th {\n",
       "        vertical-align: top;\n",
       "    }\n",
       "\n",
       "    .dataframe thead th {\n",
       "        text-align: right;\n",
       "    }\n",
       "</style>\n",
       "<table border=\"1\" class=\"dataframe\">\n",
       "  <thead>\n",
       "    <tr style=\"text-align: right;\">\n",
       "      <th></th>\n",
       "      <th>longitude_gps</th>\n",
       "      <th>latitude_gps</th>\n",
       "      <th>avprevloanamount</th>\n",
       "      <th>avgprevtotaldue</th>\n",
       "      <th>prevloancount</th>\n",
       "      <th>prevgoodcount</th>\n",
       "      <th>probofpay</th>\n",
       "      <th>loanflag</th>\n",
       "      <th>systemloanid</th>\n",
       "      <th>loannumber</th>\n",
       "      <th>loanamount</th>\n",
       "      <th>totaldue</th>\n",
       "      <th>termdays</th>\n",
       "    </tr>\n",
       "  </thead>\n",
       "  <tbody>\n",
       "    <tr>\n",
       "      <th>count</th>\n",
       "      <td>3277.000000</td>\n",
       "      <td>3277.000000</td>\n",
       "      <td>4367.000000</td>\n",
       "      <td>4367.000000</td>\n",
       "      <td>4367.000000</td>\n",
       "      <td>4367.000000</td>\n",
       "      <td>4367.000000</td>\n",
       "      <td>4367.000000</td>\n",
       "      <td>4.376000e+03</td>\n",
       "      <td>4376.000000</td>\n",
       "      <td>4376.000000</td>\n",
       "      <td>4376.000000</td>\n",
       "      <td>4376.000000</td>\n",
       "    </tr>\n",
       "    <tr>\n",
       "      <th>mean</th>\n",
       "      <td>4.534611</td>\n",
       "      <td>7.292799</td>\n",
       "      <td>12906.529204</td>\n",
       "      <td>15636.199383</td>\n",
       "      <td>4.168308</td>\n",
       "      <td>3.304099</td>\n",
       "      <td>0.770010</td>\n",
       "      <td>0.742844</td>\n",
       "      <td>3.019810e+08</td>\n",
       "      <td>5.169333</td>\n",
       "      <td>17803.930530</td>\n",
       "      <td>21252.565288</td>\n",
       "      <td>29.266453</td>\n",
       "    </tr>\n",
       "    <tr>\n",
       "      <th>std</th>\n",
       "      <td>7.916626</td>\n",
       "      <td>3.268758</td>\n",
       "      <td>4816.675389</td>\n",
       "      <td>5377.329202</td>\n",
       "      <td>3.653928</td>\n",
       "      <td>3.249305</td>\n",
       "      <td>0.325196</td>\n",
       "      <td>0.437116</td>\n",
       "      <td>1.342393e+04</td>\n",
       "      <td>3.652679</td>\n",
       "      <td>10749.041391</td>\n",
       "      <td>11943.706857</td>\n",
       "      <td>11.513424</td>\n",
       "    </tr>\n",
       "    <tr>\n",
       "      <th>min</th>\n",
       "      <td>-118.247009</td>\n",
       "      <td>-33.868818</td>\n",
       "      <td>5000.000000</td>\n",
       "      <td>5750.000000</td>\n",
       "      <td>1.000000</td>\n",
       "      <td>0.000000</td>\n",
       "      <td>0.000000</td>\n",
       "      <td>0.000000</td>\n",
       "      <td>3.019585e+08</td>\n",
       "      <td>2.000000</td>\n",
       "      <td>10000.000000</td>\n",
       "      <td>10000.000000</td>\n",
       "      <td>15.000000</td>\n",
       "    </tr>\n",
       "    <tr>\n",
       "      <th>25%</th>\n",
       "      <td>3.354984</td>\n",
       "      <td>6.473645</td>\n",
       "      <td>10000.000000</td>\n",
       "      <td>12250.000000</td>\n",
       "      <td>1.000000</td>\n",
       "      <td>1.000000</td>\n",
       "      <td>0.666667</td>\n",
       "      <td>0.000000</td>\n",
       "      <td>3.019691e+08</td>\n",
       "      <td>2.000000</td>\n",
       "      <td>10000.000000</td>\n",
       "      <td>13000.000000</td>\n",
       "      <td>30.000000</td>\n",
       "    </tr>\n",
       "    <tr>\n",
       "      <th>50%</th>\n",
       "      <td>3.587546</td>\n",
       "      <td>6.625954</td>\n",
       "      <td>10000.000000</td>\n",
       "      <td>13000.000000</td>\n",
       "      <td>3.000000</td>\n",
       "      <td>2.000000</td>\n",
       "      <td>1.000000</td>\n",
       "      <td>1.000000</td>\n",
       "      <td>3.019801e+08</td>\n",
       "      <td>4.000000</td>\n",
       "      <td>10000.000000</td>\n",
       "      <td>13000.000000</td>\n",
       "      <td>30.000000</td>\n",
       "    </tr>\n",
       "    <tr>\n",
       "      <th>75%</th>\n",
       "      <td>6.478157</td>\n",
       "      <td>7.429882</td>\n",
       "      <td>14285.714286</td>\n",
       "      <td>17300.000000</td>\n",
       "      <td>6.000000</td>\n",
       "      <td>5.000000</td>\n",
       "      <td>1.000000</td>\n",
       "      <td>1.000000</td>\n",
       "      <td>3.019935e+08</td>\n",
       "      <td>7.000000</td>\n",
       "      <td>20000.000000</td>\n",
       "      <td>24500.000000</td>\n",
       "      <td>30.000000</td>\n",
       "    </tr>\n",
       "    <tr>\n",
       "      <th>max</th>\n",
       "      <td>151.209290</td>\n",
       "      <td>71.228069</td>\n",
       "      <td>36666.666667</td>\n",
       "      <td>41252.380952</td>\n",
       "      <td>26.000000</td>\n",
       "      <td>26.000000</td>\n",
       "      <td>1.000000</td>\n",
       "      <td>1.000000</td>\n",
       "      <td>3.020040e+08</td>\n",
       "      <td>27.000000</td>\n",
       "      <td>60000.000000</td>\n",
       "      <td>68100.000000</td>\n",
       "      <td>90.000000</td>\n",
       "    </tr>\n",
       "  </tbody>\n",
       "</table>\n",
       "</div>"
      ],
      "text/plain": [
       "       longitude_gps  latitude_gps  avprevloanamount  avgprevtotaldue  \\\n",
       "count    3277.000000   3277.000000       4367.000000      4367.000000   \n",
       "mean        4.534611      7.292799      12906.529204     15636.199383   \n",
       "std         7.916626      3.268758       4816.675389      5377.329202   \n",
       "min      -118.247009    -33.868818       5000.000000      5750.000000   \n",
       "25%         3.354984      6.473645      10000.000000     12250.000000   \n",
       "50%         3.587546      6.625954      10000.000000     13000.000000   \n",
       "75%         6.478157      7.429882      14285.714286     17300.000000   \n",
       "max       151.209290     71.228069      36666.666667     41252.380952   \n",
       "\n",
       "       prevloancount  prevgoodcount    probofpay     loanflag  systemloanid  \\\n",
       "count    4367.000000    4367.000000  4367.000000  4367.000000  4.376000e+03   \n",
       "mean        4.168308       3.304099     0.770010     0.742844  3.019810e+08   \n",
       "std         3.653928       3.249305     0.325196     0.437116  1.342393e+04   \n",
       "min         1.000000       0.000000     0.000000     0.000000  3.019585e+08   \n",
       "25%         1.000000       1.000000     0.666667     0.000000  3.019691e+08   \n",
       "50%         3.000000       2.000000     1.000000     1.000000  3.019801e+08   \n",
       "75%         6.000000       5.000000     1.000000     1.000000  3.019935e+08   \n",
       "max        26.000000      26.000000     1.000000     1.000000  3.020040e+08   \n",
       "\n",
       "        loannumber    loanamount      totaldue     termdays  \n",
       "count  4376.000000   4376.000000   4376.000000  4376.000000  \n",
       "mean      5.169333  17803.930530  21252.565288    29.266453  \n",
       "std       3.652679  10749.041391  11943.706857    11.513424  \n",
       "min       2.000000  10000.000000  10000.000000    15.000000  \n",
       "25%       2.000000  10000.000000  13000.000000    30.000000  \n",
       "50%       4.000000  10000.000000  13000.000000    30.000000  \n",
       "75%       7.000000  20000.000000  24500.000000    30.000000  \n",
       "max      27.000000  60000.000000  68100.000000    90.000000  "
      ]
     },
     "execution_count": 25,
     "metadata": {},
     "output_type": "execute_result"
    }
   ],
   "source": [
    "train_df.describe()"
   ]
  },
  {
   "cell_type": "code",
   "execution_count": 26,
   "id": "8c7ff262",
   "metadata": {},
   "outputs": [
    {
     "data": {
      "text/html": [
       "<div>\n",
       "<style scoped>\n",
       "    .dataframe tbody tr th:only-of-type {\n",
       "        vertical-align: middle;\n",
       "    }\n",
       "\n",
       "    .dataframe tbody tr th {\n",
       "        vertical-align: top;\n",
       "    }\n",
       "\n",
       "    .dataframe thead th {\n",
       "        text-align: right;\n",
       "    }\n",
       "</style>\n",
       "<table border=\"1\" class=\"dataframe\">\n",
       "  <thead>\n",
       "    <tr style=\"text-align: right;\">\n",
       "      <th></th>\n",
       "      <th>longitude_gps</th>\n",
       "      <th>latitude_gps</th>\n",
       "      <th>avprevloanamount</th>\n",
       "      <th>avgprevtotaldue</th>\n",
       "      <th>prevloancount</th>\n",
       "      <th>prevgoodcount</th>\n",
       "      <th>probofpay</th>\n",
       "      <th>loanflag</th>\n",
       "      <th>systemloanid</th>\n",
       "      <th>loannumber</th>\n",
       "      <th>loanamount</th>\n",
       "      <th>totaldue</th>\n",
       "      <th>termdays</th>\n",
       "    </tr>\n",
       "  </thead>\n",
       "  <tbody>\n",
       "    <tr>\n",
       "      <th>longitude_gps</th>\n",
       "      <td>1.000000</td>\n",
       "      <td>-0.253237</td>\n",
       "      <td>0.006664</td>\n",
       "      <td>0.008349</td>\n",
       "      <td>-0.007705</td>\n",
       "      <td>-0.002858</td>\n",
       "      <td>0.018619</td>\n",
       "      <td>0.017434</td>\n",
       "      <td>-0.008483</td>\n",
       "      <td>-0.007593</td>\n",
       "      <td>-0.001301</td>\n",
       "      <td>-0.001766</td>\n",
       "      <td>0.003204</td>\n",
       "    </tr>\n",
       "    <tr>\n",
       "      <th>latitude_gps</th>\n",
       "      <td>-0.253237</td>\n",
       "      <td>1.000000</td>\n",
       "      <td>-0.012489</td>\n",
       "      <td>-0.013346</td>\n",
       "      <td>-0.000618</td>\n",
       "      <td>-0.000627</td>\n",
       "      <td>-0.026107</td>\n",
       "      <td>-0.022440</td>\n",
       "      <td>-0.004570</td>\n",
       "      <td>-0.000543</td>\n",
       "      <td>0.010006</td>\n",
       "      <td>0.007852</td>\n",
       "      <td>-0.008003</td>\n",
       "    </tr>\n",
       "    <tr>\n",
       "      <th>avprevloanamount</th>\n",
       "      <td>0.006664</td>\n",
       "      <td>-0.012489</td>\n",
       "      <td>1.000000</td>\n",
       "      <td>0.992294</td>\n",
       "      <td>0.850910</td>\n",
       "      <td>0.858988</td>\n",
       "      <td>0.150602</td>\n",
       "      <td>0.113376</td>\n",
       "      <td>-0.027046</td>\n",
       "      <td>0.852442</td>\n",
       "      <td>0.889600</td>\n",
       "      <td>0.871269</td>\n",
       "      <td>0.477949</td>\n",
       "    </tr>\n",
       "    <tr>\n",
       "      <th>avgprevtotaldue</th>\n",
       "      <td>0.008349</td>\n",
       "      <td>-0.013346</td>\n",
       "      <td>0.992294</td>\n",
       "      <td>1.000000</td>\n",
       "      <td>0.834790</td>\n",
       "      <td>0.842964</td>\n",
       "      <td>0.148911</td>\n",
       "      <td>0.115162</td>\n",
       "      <td>-0.023764</td>\n",
       "      <td>0.836493</td>\n",
       "      <td>0.882754</td>\n",
       "      <td>0.870014</td>\n",
       "      <td>0.522944</td>\n",
       "    </tr>\n",
       "    <tr>\n",
       "      <th>prevloancount</th>\n",
       "      <td>-0.007705</td>\n",
       "      <td>-0.000618</td>\n",
       "      <td>0.850910</td>\n",
       "      <td>0.834790</td>\n",
       "      <td>1.000000</td>\n",
       "      <td>0.939737</td>\n",
       "      <td>0.079515</td>\n",
       "      <td>0.064963</td>\n",
       "      <td>-0.046570</td>\n",
       "      <td>0.999701</td>\n",
       "      <td>0.832820</td>\n",
       "      <td>0.814906</td>\n",
       "      <td>0.405368</td>\n",
       "    </tr>\n",
       "    <tr>\n",
       "      <th>prevgoodcount</th>\n",
       "      <td>-0.002858</td>\n",
       "      <td>-0.000627</td>\n",
       "      <td>0.858988</td>\n",
       "      <td>0.842964</td>\n",
       "      <td>0.939737</td>\n",
       "      <td>1.000000</td>\n",
       "      <td>0.313154</td>\n",
       "      <td>0.251487</td>\n",
       "      <td>-0.042986</td>\n",
       "      <td>0.939535</td>\n",
       "      <td>0.858369</td>\n",
       "      <td>0.839756</td>\n",
       "      <td>0.428206</td>\n",
       "    </tr>\n",
       "    <tr>\n",
       "      <th>probofpay</th>\n",
       "      <td>0.018619</td>\n",
       "      <td>-0.026107</td>\n",
       "      <td>0.150602</td>\n",
       "      <td>0.148911</td>\n",
       "      <td>0.079515</td>\n",
       "      <td>0.313154</td>\n",
       "      <td>1.000000</td>\n",
       "      <td>0.781793</td>\n",
       "      <td>0.001009</td>\n",
       "      <td>0.079489</td>\n",
       "      <td>0.191058</td>\n",
       "      <td>0.190071</td>\n",
       "      <td>0.093193</td>\n",
       "    </tr>\n",
       "    <tr>\n",
       "      <th>loanflag</th>\n",
       "      <td>0.017434</td>\n",
       "      <td>-0.022440</td>\n",
       "      <td>0.113376</td>\n",
       "      <td>0.115162</td>\n",
       "      <td>0.064963</td>\n",
       "      <td>0.251487</td>\n",
       "      <td>0.781793</td>\n",
       "      <td>1.000000</td>\n",
       "      <td>-0.002761</td>\n",
       "      <td>0.065094</td>\n",
       "      <td>0.169342</td>\n",
       "      <td>0.168098</td>\n",
       "      <td>0.089420</td>\n",
       "    </tr>\n",
       "    <tr>\n",
       "      <th>systemloanid</th>\n",
       "      <td>-0.008483</td>\n",
       "      <td>-0.004570</td>\n",
       "      <td>-0.027046</td>\n",
       "      <td>-0.023764</td>\n",
       "      <td>-0.046570</td>\n",
       "      <td>-0.042986</td>\n",
       "      <td>0.001009</td>\n",
       "      <td>-0.002761</td>\n",
       "      <td>1.000000</td>\n",
       "      <td>-0.046517</td>\n",
       "      <td>-0.057344</td>\n",
       "      <td>-0.061673</td>\n",
       "      <td>-0.065447</td>\n",
       "    </tr>\n",
       "    <tr>\n",
       "      <th>loannumber</th>\n",
       "      <td>-0.007593</td>\n",
       "      <td>-0.000543</td>\n",
       "      <td>0.852442</td>\n",
       "      <td>0.836493</td>\n",
       "      <td>0.999701</td>\n",
       "      <td>0.939535</td>\n",
       "      <td>0.079489</td>\n",
       "      <td>0.065094</td>\n",
       "      <td>-0.046517</td>\n",
       "      <td>1.000000</td>\n",
       "      <td>0.833489</td>\n",
       "      <td>0.815476</td>\n",
       "      <td>0.405449</td>\n",
       "    </tr>\n",
       "    <tr>\n",
       "      <th>loanamount</th>\n",
       "      <td>-0.001301</td>\n",
       "      <td>0.010006</td>\n",
       "      <td>0.889600</td>\n",
       "      <td>0.882754</td>\n",
       "      <td>0.832820</td>\n",
       "      <td>0.858369</td>\n",
       "      <td>0.191058</td>\n",
       "      <td>0.169342</td>\n",
       "      <td>-0.057344</td>\n",
       "      <td>0.833489</td>\n",
       "      <td>1.000000</td>\n",
       "      <td>0.994396</td>\n",
       "      <td>0.559202</td>\n",
       "    </tr>\n",
       "    <tr>\n",
       "      <th>totaldue</th>\n",
       "      <td>-0.001766</td>\n",
       "      <td>0.007852</td>\n",
       "      <td>0.871269</td>\n",
       "      <td>0.870014</td>\n",
       "      <td>0.814906</td>\n",
       "      <td>0.839756</td>\n",
       "      <td>0.190071</td>\n",
       "      <td>0.168098</td>\n",
       "      <td>-0.061673</td>\n",
       "      <td>0.815476</td>\n",
       "      <td>0.994396</td>\n",
       "      <td>1.000000</td>\n",
       "      <td>0.627943</td>\n",
       "    </tr>\n",
       "    <tr>\n",
       "      <th>termdays</th>\n",
       "      <td>0.003204</td>\n",
       "      <td>-0.008003</td>\n",
       "      <td>0.477949</td>\n",
       "      <td>0.522944</td>\n",
       "      <td>0.405368</td>\n",
       "      <td>0.428206</td>\n",
       "      <td>0.093193</td>\n",
       "      <td>0.089420</td>\n",
       "      <td>-0.065447</td>\n",
       "      <td>0.405449</td>\n",
       "      <td>0.559202</td>\n",
       "      <td>0.627943</td>\n",
       "      <td>1.000000</td>\n",
       "    </tr>\n",
       "  </tbody>\n",
       "</table>\n",
       "</div>"
      ],
      "text/plain": [
       "                  longitude_gps  latitude_gps  avprevloanamount  \\\n",
       "longitude_gps          1.000000     -0.253237          0.006664   \n",
       "latitude_gps          -0.253237      1.000000         -0.012489   \n",
       "avprevloanamount       0.006664     -0.012489          1.000000   \n",
       "avgprevtotaldue        0.008349     -0.013346          0.992294   \n",
       "prevloancount         -0.007705     -0.000618          0.850910   \n",
       "prevgoodcount         -0.002858     -0.000627          0.858988   \n",
       "probofpay              0.018619     -0.026107          0.150602   \n",
       "loanflag               0.017434     -0.022440          0.113376   \n",
       "systemloanid          -0.008483     -0.004570         -0.027046   \n",
       "loannumber            -0.007593     -0.000543          0.852442   \n",
       "loanamount            -0.001301      0.010006          0.889600   \n",
       "totaldue              -0.001766      0.007852          0.871269   \n",
       "termdays               0.003204     -0.008003          0.477949   \n",
       "\n",
       "                  avgprevtotaldue  prevloancount  prevgoodcount  probofpay  \\\n",
       "longitude_gps            0.008349      -0.007705      -0.002858   0.018619   \n",
       "latitude_gps            -0.013346      -0.000618      -0.000627  -0.026107   \n",
       "avprevloanamount         0.992294       0.850910       0.858988   0.150602   \n",
       "avgprevtotaldue          1.000000       0.834790       0.842964   0.148911   \n",
       "prevloancount            0.834790       1.000000       0.939737   0.079515   \n",
       "prevgoodcount            0.842964       0.939737       1.000000   0.313154   \n",
       "probofpay                0.148911       0.079515       0.313154   1.000000   \n",
       "loanflag                 0.115162       0.064963       0.251487   0.781793   \n",
       "systemloanid            -0.023764      -0.046570      -0.042986   0.001009   \n",
       "loannumber               0.836493       0.999701       0.939535   0.079489   \n",
       "loanamount               0.882754       0.832820       0.858369   0.191058   \n",
       "totaldue                 0.870014       0.814906       0.839756   0.190071   \n",
       "termdays                 0.522944       0.405368       0.428206   0.093193   \n",
       "\n",
       "                  loanflag  systemloanid  loannumber  loanamount  totaldue  \\\n",
       "longitude_gps     0.017434     -0.008483   -0.007593   -0.001301 -0.001766   \n",
       "latitude_gps     -0.022440     -0.004570   -0.000543    0.010006  0.007852   \n",
       "avprevloanamount  0.113376     -0.027046    0.852442    0.889600  0.871269   \n",
       "avgprevtotaldue   0.115162     -0.023764    0.836493    0.882754  0.870014   \n",
       "prevloancount     0.064963     -0.046570    0.999701    0.832820  0.814906   \n",
       "prevgoodcount     0.251487     -0.042986    0.939535    0.858369  0.839756   \n",
       "probofpay         0.781793      0.001009    0.079489    0.191058  0.190071   \n",
       "loanflag          1.000000     -0.002761    0.065094    0.169342  0.168098   \n",
       "systemloanid     -0.002761      1.000000   -0.046517   -0.057344 -0.061673   \n",
       "loannumber        0.065094     -0.046517    1.000000    0.833489  0.815476   \n",
       "loanamount        0.169342     -0.057344    0.833489    1.000000  0.994396   \n",
       "totaldue          0.168098     -0.061673    0.815476    0.994396  1.000000   \n",
       "termdays          0.089420     -0.065447    0.405449    0.559202  0.627943   \n",
       "\n",
       "                  termdays  \n",
       "longitude_gps     0.003204  \n",
       "latitude_gps     -0.008003  \n",
       "avprevloanamount  0.477949  \n",
       "avgprevtotaldue   0.522944  \n",
       "prevloancount     0.405368  \n",
       "prevgoodcount     0.428206  \n",
       "probofpay         0.093193  \n",
       "loanflag          0.089420  \n",
       "systemloanid     -0.065447  \n",
       "loannumber        0.405449  \n",
       "loanamount        0.559202  \n",
       "totaldue          0.627943  \n",
       "termdays          1.000000  "
      ]
     },
     "execution_count": 26,
     "metadata": {},
     "output_type": "execute_result"
    }
   ],
   "source": [
    "train_df.corr()"
   ]
  },
  {
   "cell_type": "markdown",
   "id": "2aa8be19",
   "metadata": {},
   "source": [
    "#### Visualize the data"
   ]
  },
  {
   "cell_type": "code",
   "execution_count": 27,
   "id": "b09f995a",
   "metadata": {},
   "outputs": [
    {
     "data": {
      "text/plain": [
       "Text(0.5, 1.0, 'Latitude Distribution')"
      ]
     },
     "execution_count": 27,
     "metadata": {},
     "output_type": "execute_result"
    },
    {
     "data": {
      "image/png": "[encoded data removed]",
      "text/plain": [
       "<Figure size 432x288 with 2 Axes>"
      ]
     },
     "metadata": {
      "needs_background": "light"
     },
     "output_type": "display_data"
    }
   ],
   "source": [
    "## see distribution of location\n",
    "fig, (ax1,ax2) = plt.subplots(1,2)\n",
    "ax1.hist(train_df.longitude_gps)\n",
    "ax1.set_title('Longitude Distribution')\n",
    "ax2.hist(train_df.latitude_gps)\n",
    "ax2.set_title('Latitude Distribution')"
   ]
  },
  {
   "cell_type": "code",
   "execution_count": 28,
   "id": "8b517e04",
   "metadata": {},
   "outputs": [
    {
     "data": {
      "text/plain": [
       "<AxesSubplot:xlabel='longitude_gps', ylabel='latitude_gps'>"
      ]
     },
     "execution_count": 28,
     "metadata": {},
     "output_type": "execute_result"
    },
    {
     "data": {
      "image/png": "[encoded data removed]",
      "text/plain": [
       "<Figure size 432x288 with 1 Axes>"
      ]
     },
     "metadata": {
      "needs_background": "light"
     },
     "output_type": "display_data"
    }
   ],
   "source": [
    "##plot the different locations on a scatter plot\n",
    "sns.scatterplot(data=train_df,x='longitude_gps', y='latitude_gps', hue='good_bad_flag')"
   ]
  },
  {
   "cell_type": "code",
   "execution_count": 29,
   "id": "014ba2bf",
   "metadata": {},
   "outputs": [
    {
     "data": {
      "text/plain": [
       "<AxesSubplot:xlabel='probofpay', ylabel='Count'>"
      ]
     },
     "execution_count": 29,
     "metadata": {},
     "output_type": "execute_result"
    },
    {
     "data": {
      "image/png": "[encoded data removed]",
      "text/plain": [
       "<Figure size 432x288 with 1 Axes>"
      ]
     },
     "metadata": {
      "needs_background": "light"
     },
     "output_type": "display_data"
    }
   ],
   "source": [
    "sns.histplot(data=train_df,x='probofpay',hue='good_bad_flag',multiple='stack')"
   ]
  },
  {
   "cell_type": "code",
   "execution_count": 30,
   "id": "474a0ffd",
   "metadata": {},
   "outputs": [
    {
     "data": {
      "text/plain": [
       "<AxesSubplot:xlabel='loanflag', ylabel='count'>"
      ]
     },
     "execution_count": 30,
     "metadata": {},
     "output_type": "execute_result"
    },
    {
     "data": {
      "image/png": "[encoded data removed]",
      "text/plain": [
       "<Figure size 720x360 with 2 Axes>"
      ]
     },
     "metadata": {
      "needs_background": "light"
     },
     "output_type": "display_data"
    }
   ],
   "source": [
    "fig, (ax1,ax2) = plt.subplots(1,2, figsize=(10,5))\n",
    "sns.histplot(data=train_df,x='probofpay',hue='good_bad_flag',multiple='stack',ax=ax1)\n",
    "sns.countplot(data=train_df,x='loanflag',hue='good_bad_flag',ax=ax2)"
   ]
  },
  {
   "cell_type": "code",
   "execution_count": 31,
   "id": "d579158d",
   "metadata": {},
   "outputs": [
    {
     "data": {
      "text/plain": [
       "employment_status_clients  good_bad_flag\n",
       "Contract                   Good                1\n",
       "Permanent                  Bad               482\n",
       "                           Good             1866\n",
       "Retired                    Good                4\n",
       "Self-Employed              Bad                45\n",
       "                           Good              232\n",
       "Student                    Bad                30\n",
       "                           Good               81\n",
       "Unemployed                 Bad                 7\n",
       "                           Good               36\n",
       "Name: good_bad_flag, dtype: int64"
      ]
     },
     "execution_count": 31,
     "metadata": {},
     "output_type": "execute_result"
    }
   ],
   "source": [
    "train_df.groupby(['employment_status_clients','good_bad_flag'])['good_bad_flag'].count()"
   ]
  },
  {
   "cell_type": "code",
   "execution_count": 32,
   "id": "0391de32",
   "metadata": {},
   "outputs": [
    {
     "data": {
      "text/plain": [
       "bank_account_type  good_bad_flag\n",
       "Current            Bad                 5\n",
       "                   Good               41\n",
       "Other              Bad                88\n",
       "                   Good              565\n",
       "Savings            Bad               621\n",
       "                   Good             1957\n",
       "Name: good_bad_flag, dtype: int64"
      ]
     },
     "execution_count": 32,
     "metadata": {},
     "output_type": "execute_result"
    }
   ],
   "source": [
    "train_df.groupby(['bank_account_type','good_bad_flag'])['good_bad_flag'].count()"
   ]
  },
  {
   "cell_type": "code",
   "execution_count": 33,
   "id": "e669685f",
   "metadata": {},
   "outputs": [
    {
     "data": {
      "text/plain": [
       "GT Bank               1210\n",
       "First Bank             430\n",
       "Access Bank            329\n",
       "UBA                    269\n",
       "Zenith Bank            224\n",
       "Diamond Bank           216\n",
       "Stanbic IBTC           117\n",
       "EcoBank                116\n",
       "FCMB                    89\n",
       "Skye Bank               76\n",
       "Fidelity Bank           74\n",
       "Sterling Bank           43\n",
       "Wema Bank               19\n",
       "Heritage Bank           18\n",
       "Union Bank              15\n",
       "Keystone Bank           14\n",
       "Standard Chartered      13\n",
       "Unity Bank               5\n",
       "Name: bank_name_clients, dtype: int64"
      ]
     },
     "execution_count": 33,
     "metadata": {},
     "output_type": "execute_result"
    }
   ],
   "source": [
    "train_df['bank_name_clients'].value_counts()"
   ]
  },
  {
   "cell_type": "markdown",
   "id": "b738bf37",
   "metadata": {},
   "source": [
    "## Prepare Data"
   ]
  },
  {
   "cell_type": "markdown",
   "id": "02d56035",
   "metadata": {},
   "source": [
    "- Extract the target column\n",
    "- Join the train and test features data for easy processing\n",
    "- Get columns with missing values\n",
    "- Drop columns with over 80% missing values\n",
    "- Look for the best way to fill missing values"
   ]
  },
  {
   "cell_type": "code",
   "execution_count": 34,
   "id": "910685f4",
   "metadata": {},
   "outputs": [],
   "source": [
    "##make a copy of the train and test data\n",
    "train_df1 = train_df.copy()\n",
    "test_df1 = test_df.copy()"
   ]
  },
  {
   "cell_type": "code",
   "execution_count": 35,
   "id": "4ee78002",
   "metadata": {},
   "outputs": [],
   "source": [
    "##redex index of test_df so it canbe join with train for preprocessing\n",
    "start_index = train_df1.index.max() +1\n",
    "end_index = start_index+test_df1.index.max()+1\n",
    "new_test_index = range(start_index,end_index)\n",
    "test_df1['index_col'] = new_test_index\n",
    "test_df1 = test_df1.set_index('index_col')"
   ]
  },
  {
   "cell_type": "code",
   "execution_count": 36,
   "id": "5959220a",
   "metadata": {},
   "outputs": [],
   "source": [
    "##Extract target from train data\n",
    "y_train = train_df1['good_bad_flag']"
   ]
  },
  {
   "cell_type": "code",
   "execution_count": 37,
   "id": "c3508622",
   "metadata": {},
   "outputs": [],
   "source": [
    "#join train and test data as df\n",
    "df = pd.concat([train_df1.drop('good_bad_flag',axis=1),test_df1])"
   ]
  },
  {
   "cell_type": "code",
   "execution_count": 38,
   "id": "8846b4cb",
   "metadata": {},
   "outputs": [
    {
     "data": {
      "image/png": "[encoded data removed]",
      "text/plain": [
       "<Figure size 432x288 with 1 Axes>"
      ]
     },
     "metadata": {
      "needs_background": "light"
     },
     "output_type": "display_data"
    }
   ],
   "source": [
    "#check null in df\n",
    "plot_missing(df)"
   ]
  },
  {
   "cell_type": "code",
   "execution_count": 39,
   "id": "ddb533ce",
   "metadata": {},
   "outputs": [],
   "source": [
    "#drop columns with over 80% null values\n",
    "df = df.drop(['bank_branch_clients','level_of_education_clients','referredby'],axis=1)"
   ]
  },
  {
   "cell_type": "code",
   "execution_count": 40,
   "id": "3dd13e84",
   "metadata": {},
   "outputs": [
    {
     "data": {
      "text/plain": [
       "Permanent        2629\n",
       "Self-Employed     308\n",
       "Student           127\n",
       "Unemployed         46\n",
       "Retired             5\n",
       "Contract            1\n",
       "Name: employment_status_clients, dtype: int64"
      ]
     },
     "execution_count": 40,
     "metadata": {},
     "output_type": "execute_result"
    }
   ],
   "source": [
    "## see employment status column\n",
    "df['employment_status_clients'].value_counts()"
   ]
  },
  {
   "cell_type": "code",
   "execution_count": 41,
   "id": "996c6176",
   "metadata": {},
   "outputs": [],
   "source": [
    "## its best to fill it with another category others\n",
    "df['employment_status_clients'].fillna('Others', inplace=True)"
   ]
  },
  {
   "cell_type": "code",
   "execution_count": 42,
   "id": "b3900167",
   "metadata": {},
   "outputs": [
    {
     "data": {
      "text/plain": [
       "GT Bank               1347\n",
       "First Bank             487\n",
       "Access Bank            364\n",
       "UBA                    303\n",
       "Zenith Bank            249\n",
       "Diamond Bank           244\n",
       "Stanbic IBTC           129\n",
       "EcoBank                126\n",
       "FCMB                   107\n",
       "Skye Bank               85\n",
       "Fidelity Bank           81\n",
       "Sterling Bank           46\n",
       "Wema Bank               22\n",
       "Union Bank              20\n",
       "Heritage Bank           19\n",
       "Keystone Bank           14\n",
       "Standard Chartered      13\n",
       "Unity Bank               6\n",
       "Name: bank_name_clients, dtype: int64"
      ]
     },
     "execution_count": 42,
     "metadata": {},
     "output_type": "execute_result"
    }
   ],
   "source": [
    "## bank and account type\n",
    "df['bank_name_clients'].value_counts()"
   ]
  },
  {
   "cell_type": "code",
   "execution_count": 43,
   "id": "c240eb3a",
   "metadata": {},
   "outputs": [
    {
     "data": {
      "text/plain": [
       "Savings    2887\n",
       "Other       723\n",
       "Current      52\n",
       "Name: bank_account_type, dtype: int64"
      ]
     },
     "execution_count": 43,
     "metadata": {},
     "output_type": "execute_result"
    }
   ],
   "source": [
    "df['bank_account_type'].value_counts()"
   ]
  },
  {
   "cell_type": "code",
   "execution_count": 44,
   "id": "0cb57b2d",
   "metadata": {},
   "outputs": [],
   "source": [
    "## fill this two columns with the mode\n",
    "df['bank_account_type'] = df['bank_account_type'].fillna('Savings')\n",
    "df['bank_name_clients'] = df['bank_name_clients'].fillna('GT Bank')"
   ]
  },
  {
   "cell_type": "code",
   "execution_count": 45,
   "id": "54464477",
   "metadata": {},
   "outputs": [],
   "source": [
    "## Longitude and latitude\n",
    "## as seen in the distribution plot, this column has lots of outlier values, fill the missing vales with the median\n",
    "df['longitude_gps'] = df['longitude_gps'].fillna(df['longitude_gps'].median())\n",
    "df['latitude_gps'] = df['latitude_gps'].fillna(df['latitude_gps'].median())"
   ]
  },
  {
   "cell_type": "code",
   "execution_count": 46,
   "id": "dd2f4daa",
   "metadata": {},
   "outputs": [
    {
     "data": {
      "text/plain": [
       "0    1986.0\n",
       "dtype: float64"
      ]
     },
     "execution_count": 46,
     "metadata": {},
     "output_type": "execute_result"
    }
   ],
   "source": [
    "## for birthday, get the mode value of birthyear, then use it to fill the missing values\n",
    "# Then convert the column to datetime\n",
    "mode_year = pd.to_datetime(df['birthdate'],errors='coerce').dt.year.mode()\n",
    "mode_year"
   ]
  },
  {
   "cell_type": "code",
   "execution_count": 47,
   "id": "c593a752",
   "metadata": {},
   "outputs": [],
   "source": [
    "df['birthdate'] = df['birthdate'].fillna('1986-06-10 00:00:00.000000')"
   ]
  },
  {
   "cell_type": "code",
   "execution_count": 48,
   "id": "bc6212bc",
   "metadata": {},
   "outputs": [],
   "source": [
    "df['birthdate'] = pd.to_datetime(df['birthdate'])"
   ]
  },
  {
   "cell_type": "markdown",
   "id": "ec330e72",
   "metadata": {},
   "source": [
    "Next having null values in the prevloan summary details means that particular customer hasnt taken a loan.\n",
    "It will be best to fil these values with a different category for categorical columns and 0 for numerical columns"
   ]
  },
  {
   "cell_type": "code",
   "execution_count": 49,
   "id": "37e84418",
   "metadata": {},
   "outputs": [],
   "source": [
    "# loanflag contains the flag for the last loan taken by the customer, since the person hasnt taken before, fill it with say 2.\n",
    "# filling with two means we will have to process it later using onehotencoding\n",
    "df['loanflag'] = df['loanflag'].fillna(2)"
   ]
  },
  {
   "cell_type": "code",
   "execution_count": 50,
   "id": "8b5e1e2b",
   "metadata": {},
   "outputs": [],
   "source": [
    "df['probofpay'] = df['probofpay'].fillna(0)\n",
    "df['prevgoodcount'] = df['prevgoodcount'].fillna(0)\n",
    "df['prevloancount'] = df['prevloancount'].fillna(0)\n",
    "df['avgprevtotaldue'] = df['avgprevtotaldue'].fillna(0)\n",
    "df['avprevloanamount'] = df['avprevloanamount'].fillna(0)"
   ]
  },
  {
   "cell_type": "code",
   "execution_count": 51,
   "id": "0373245a",
   "metadata": {},
   "outputs": [
    {
     "data": {
      "text/plain": [
       "0"
      ]
     },
     "execution_count": 51,
     "metadata": {},
     "output_type": "execute_result"
    }
   ],
   "source": [
    "#confirm there ae no missing values\n",
    "df.isnull().sum().sum()"
   ]
  },
  {
   "cell_type": "markdown",
   "id": "a4ee5843",
   "metadata": {},
   "source": [
    "## Feature Selection\n",
    "\n",
    "Drop approved date, creationdate, and birthdate"
   ]
  },
  {
   "cell_type": "code",
   "execution_count": 52,
   "id": "e4e5113c",
   "metadata": {},
   "outputs": [],
   "source": [
    "df = df.drop(['creationdate','approveddate','birthdate','customerid'],axis=1)"
   ]
  },
  {
   "cell_type": "markdown",
   "id": "91ba992d",
   "metadata": {},
   "source": [
    "## Feature Engineering"
   ]
  },
  {
   "cell_type": "markdown",
   "id": "5c72124f",
   "metadata": {},
   "source": [
    "- The bank_name_clients column has lots of distinct values. Reduce it to three values"
   ]
  },
  {
   "cell_type": "code",
   "execution_count": 53,
   "id": "813d954b",
   "metadata": {},
   "outputs": [],
   "source": [
    "top_banks = ['First Bank','Access Bank','UBA','Zenith Bank','Diamond Bank','Stanbic IBTC','EcoBank','FCMB']\n",
    "banks = []\n",
    "for i in df['bank_name_clients'].index:\n",
    "    if df['bank_name_clients'][i] in top_banks:\n",
    "        banks.append('Top_banks')\n",
    "    elif df['bank_name_clients'][i] == 'GT Bank':\n",
    "        banks.append('GT Bank')\n",
    "    else:\n",
    "        banks.append('Others')\n",
    "        \n",
    "df['bank_name_clients'] = banks"
   ]
  },
  {
   "cell_type": "code",
   "execution_count": 54,
   "id": "5928af94",
   "metadata": {},
   "outputs": [
    {
     "data": {
      "text/plain": [
       "GT Bank      3511\n",
       "Top_banks    2009\n",
       "Others        306\n",
       "Name: bank_name_clients, dtype: int64"
      ]
     },
     "execution_count": 54,
     "metadata": {},
     "output_type": "execute_result"
    }
   ],
   "source": [
    "df['bank_name_clients'].value_counts()"
   ]
  },
  {
   "cell_type": "code",
   "execution_count": 55,
   "id": "142b00e0",
   "metadata": {},
   "outputs": [],
   "source": [
    "df['loanflag'] = df['loanflag'].astype('category')"
   ]
  },
  {
   "cell_type": "code",
   "execution_count": 56,
   "id": "3d5c64f1",
   "metadata": {},
   "outputs": [
    {
     "data": {
      "text/plain": [
       "CategoricalDtype(categories=[0.0, 1.0, 2.0], ordered=False)"
      ]
     },
     "execution_count": 56,
     "metadata": {},
     "output_type": "execute_result"
    }
   ],
   "source": [
    "df['loanflag'].dtype"
   ]
  },
  {
   "cell_type": "code",
   "execution_count": 57,
   "id": "1d43bab3",
   "metadata": {},
   "outputs": [],
   "source": [
    "# get dummies for categorical and object types\n",
    "df = pd.get_dummies(data=df)"
   ]
  },
  {
   "cell_type": "code",
   "execution_count": 58,
   "id": "48b32e6a",
   "metadata": {},
   "outputs": [
    {
     "data": {
      "text/html": [
       "<div>\n",
       "<style scoped>\n",
       "    .dataframe tbody tr th:only-of-type {\n",
       "        vertical-align: middle;\n",
       "    }\n",
       "\n",
       "    .dataframe tbody tr th {\n",
       "        vertical-align: top;\n",
       "    }\n",
       "\n",
       "    .dataframe thead th {\n",
       "        text-align: right;\n",
       "    }\n",
       "</style>\n",
       "<table border=\"1\" class=\"dataframe\">\n",
       "  <thead>\n",
       "    <tr style=\"text-align: right;\">\n",
       "      <th></th>\n",
       "      <th>longitude_gps</th>\n",
       "      <th>latitude_gps</th>\n",
       "      <th>avprevloanamount</th>\n",
       "      <th>avgprevtotaldue</th>\n",
       "      <th>prevloancount</th>\n",
       "      <th>prevgoodcount</th>\n",
       "      <th>probofpay</th>\n",
       "      <th>systemloanid</th>\n",
       "      <th>loannumber</th>\n",
       "      <th>loanamount</th>\n",
       "      <th>...</th>\n",
       "      <th>employment_status_clients_Contract</th>\n",
       "      <th>employment_status_clients_Others</th>\n",
       "      <th>employment_status_clients_Permanent</th>\n",
       "      <th>employment_status_clients_Retired</th>\n",
       "      <th>employment_status_clients_Self-Employed</th>\n",
       "      <th>employment_status_clients_Student</th>\n",
       "      <th>employment_status_clients_Unemployed</th>\n",
       "      <th>loanflag_0.0</th>\n",
       "      <th>loanflag_1.0</th>\n",
       "      <th>loanflag_2.0</th>\n",
       "    </tr>\n",
       "  </thead>\n",
       "  <tbody>\n",
       "    <tr>\n",
       "      <th>0</th>\n",
       "      <td>3.432010</td>\n",
       "      <td>6.433055</td>\n",
       "      <td>18181.818182</td>\n",
       "      <td>22081.818182</td>\n",
       "      <td>11.0</td>\n",
       "      <td>8.0</td>\n",
       "      <td>0.727273</td>\n",
       "      <td>301994762</td>\n",
       "      <td>12</td>\n",
       "      <td>30000.0</td>\n",
       "      <td>...</td>\n",
       "      <td>0</td>\n",
       "      <td>0</td>\n",
       "      <td>1</td>\n",
       "      <td>0</td>\n",
       "      <td>0</td>\n",
       "      <td>0</td>\n",
       "      <td>0</td>\n",
       "      <td>0</td>\n",
       "      <td>1</td>\n",
       "      <td>0</td>\n",
       "    </tr>\n",
       "    <tr>\n",
       "      <th>1</th>\n",
       "      <td>3.885298</td>\n",
       "      <td>7.320700</td>\n",
       "      <td>0.000000</td>\n",
       "      <td>0.000000</td>\n",
       "      <td>0.0</td>\n",
       "      <td>0.0</td>\n",
       "      <td>0.000000</td>\n",
       "      <td>301965204</td>\n",
       "      <td>2</td>\n",
       "      <td>15000.0</td>\n",
       "      <td>...</td>\n",
       "      <td>0</td>\n",
       "      <td>0</td>\n",
       "      <td>1</td>\n",
       "      <td>0</td>\n",
       "      <td>0</td>\n",
       "      <td>0</td>\n",
       "      <td>0</td>\n",
       "      <td>0</td>\n",
       "      <td>0</td>\n",
       "      <td>1</td>\n",
       "    </tr>\n",
       "    <tr>\n",
       "      <th>2</th>\n",
       "      <td>11.139350</td>\n",
       "      <td>10.292041</td>\n",
       "      <td>10000.000000</td>\n",
       "      <td>11750.000000</td>\n",
       "      <td>6.0</td>\n",
       "      <td>5.0</td>\n",
       "      <td>0.833333</td>\n",
       "      <td>301966580</td>\n",
       "      <td>7</td>\n",
       "      <td>20000.0</td>\n",
       "      <td>...</td>\n",
       "      <td>0</td>\n",
       "      <td>0</td>\n",
       "      <td>1</td>\n",
       "      <td>0</td>\n",
       "      <td>0</td>\n",
       "      <td>0</td>\n",
       "      <td>0</td>\n",
       "      <td>0</td>\n",
       "      <td>1</td>\n",
       "      <td>0</td>\n",
       "    </tr>\n",
       "    <tr>\n",
       "      <th>3</th>\n",
       "      <td>3.985770</td>\n",
       "      <td>7.491708</td>\n",
       "      <td>10000.000000</td>\n",
       "      <td>12250.000000</td>\n",
       "      <td>2.0</td>\n",
       "      <td>0.0</td>\n",
       "      <td>0.000000</td>\n",
       "      <td>301999343</td>\n",
       "      <td>3</td>\n",
       "      <td>10000.0</td>\n",
       "      <td>...</td>\n",
       "      <td>0</td>\n",
       "      <td>0</td>\n",
       "      <td>1</td>\n",
       "      <td>0</td>\n",
       "      <td>0</td>\n",
       "      <td>0</td>\n",
       "      <td>0</td>\n",
       "      <td>1</td>\n",
       "      <td>0</td>\n",
       "      <td>0</td>\n",
       "    </tr>\n",
       "    <tr>\n",
       "      <th>4</th>\n",
       "      <td>7.457913</td>\n",
       "      <td>9.076574</td>\n",
       "      <td>18750.000000</td>\n",
       "      <td>23550.000000</td>\n",
       "      <td>8.0</td>\n",
       "      <td>8.0</td>\n",
       "      <td>1.000000</td>\n",
       "      <td>301962360</td>\n",
       "      <td>9</td>\n",
       "      <td>40000.0</td>\n",
       "      <td>...</td>\n",
       "      <td>0</td>\n",
       "      <td>0</td>\n",
       "      <td>1</td>\n",
       "      <td>0</td>\n",
       "      <td>0</td>\n",
       "      <td>0</td>\n",
       "      <td>0</td>\n",
       "      <td>0</td>\n",
       "      <td>1</td>\n",
       "      <td>0</td>\n",
       "    </tr>\n",
       "    <tr>\n",
       "      <th>...</th>\n",
       "      <td>...</td>\n",
       "      <td>...</td>\n",
       "      <td>...</td>\n",
       "      <td>...</td>\n",
       "      <td>...</td>\n",
       "      <td>...</td>\n",
       "      <td>...</td>\n",
       "      <td>...</td>\n",
       "      <td>...</td>\n",
       "      <td>...</td>\n",
       "      <td>...</td>\n",
       "      <td>...</td>\n",
       "      <td>...</td>\n",
       "      <td>...</td>\n",
       "      <td>...</td>\n",
       "      <td>...</td>\n",
       "      <td>...</td>\n",
       "      <td>...</td>\n",
       "      <td>...</td>\n",
       "      <td>...</td>\n",
       "      <td>...</td>\n",
       "    </tr>\n",
       "    <tr>\n",
       "      <th>5821</th>\n",
       "      <td>3.587857</td>\n",
       "      <td>6.627635</td>\n",
       "      <td>10000.000000</td>\n",
       "      <td>11500.000000</td>\n",
       "      <td>2.0</td>\n",
       "      <td>2.0</td>\n",
       "      <td>1.000000</td>\n",
       "      <td>301991141</td>\n",
       "      <td>3</td>\n",
       "      <td>10000.0</td>\n",
       "      <td>...</td>\n",
       "      <td>0</td>\n",
       "      <td>1</td>\n",
       "      <td>0</td>\n",
       "      <td>0</td>\n",
       "      <td>0</td>\n",
       "      <td>0</td>\n",
       "      <td>0</td>\n",
       "      <td>0</td>\n",
       "      <td>1</td>\n",
       "      <td>0</td>\n",
       "    </tr>\n",
       "    <tr>\n",
       "      <th>5822</th>\n",
       "      <td>3.587857</td>\n",
       "      <td>6.627635</td>\n",
       "      <td>10000.000000</td>\n",
       "      <td>11500.000000</td>\n",
       "      <td>2.0</td>\n",
       "      <td>2.0</td>\n",
       "      <td>1.000000</td>\n",
       "      <td>301963018</td>\n",
       "      <td>3</td>\n",
       "      <td>10000.0</td>\n",
       "      <td>...</td>\n",
       "      <td>0</td>\n",
       "      <td>1</td>\n",
       "      <td>0</td>\n",
       "      <td>0</td>\n",
       "      <td>0</td>\n",
       "      <td>0</td>\n",
       "      <td>0</td>\n",
       "      <td>0</td>\n",
       "      <td>1</td>\n",
       "      <td>0</td>\n",
       "    </tr>\n",
       "    <tr>\n",
       "      <th>5823</th>\n",
       "      <td>3.587857</td>\n",
       "      <td>6.627635</td>\n",
       "      <td>18125.000000</td>\n",
       "      <td>22075.000000</td>\n",
       "      <td>8.0</td>\n",
       "      <td>6.0</td>\n",
       "      <td>0.750000</td>\n",
       "      <td>301994653</td>\n",
       "      <td>9</td>\n",
       "      <td>40000.0</td>\n",
       "      <td>...</td>\n",
       "      <td>0</td>\n",
       "      <td>1</td>\n",
       "      <td>0</td>\n",
       "      <td>0</td>\n",
       "      <td>0</td>\n",
       "      <td>0</td>\n",
       "      <td>0</td>\n",
       "      <td>1</td>\n",
       "      <td>0</td>\n",
       "      <td>0</td>\n",
       "    </tr>\n",
       "    <tr>\n",
       "      <th>5824</th>\n",
       "      <td>3.587857</td>\n",
       "      <td>6.627635</td>\n",
       "      <td>30384.615385</td>\n",
       "      <td>36084.615385</td>\n",
       "      <td>13.0</td>\n",
       "      <td>13.0</td>\n",
       "      <td>1.000000</td>\n",
       "      <td>301961483</td>\n",
       "      <td>14</td>\n",
       "      <td>60000.0</td>\n",
       "      <td>...</td>\n",
       "      <td>0</td>\n",
       "      <td>1</td>\n",
       "      <td>0</td>\n",
       "      <td>0</td>\n",
       "      <td>0</td>\n",
       "      <td>0</td>\n",
       "      <td>0</td>\n",
       "      <td>0</td>\n",
       "      <td>1</td>\n",
       "      <td>0</td>\n",
       "    </tr>\n",
       "    <tr>\n",
       "      <th>5825</th>\n",
       "      <td>3.587857</td>\n",
       "      <td>6.627635</td>\n",
       "      <td>10000.000000</td>\n",
       "      <td>11350.000000</td>\n",
       "      <td>5.0</td>\n",
       "      <td>5.0</td>\n",
       "      <td>1.000000</td>\n",
       "      <td>301973097</td>\n",
       "      <td>6</td>\n",
       "      <td>20000.0</td>\n",
       "      <td>...</td>\n",
       "      <td>0</td>\n",
       "      <td>1</td>\n",
       "      <td>0</td>\n",
       "      <td>0</td>\n",
       "      <td>0</td>\n",
       "      <td>0</td>\n",
       "      <td>0</td>\n",
       "      <td>0</td>\n",
       "      <td>1</td>\n",
       "      <td>0</td>\n",
       "    </tr>\n",
       "  </tbody>\n",
       "</table>\n",
       "<p>5826 rows × 28 columns</p>\n",
       "</div>"
      ],
      "text/plain": [
       "      longitude_gps  latitude_gps  avprevloanamount  avgprevtotaldue  \\\n",
       "0          3.432010      6.433055      18181.818182     22081.818182   \n",
       "1          3.885298      7.320700          0.000000         0.000000   \n",
       "2         11.139350     10.292041      10000.000000     11750.000000   \n",
       "3          3.985770      7.491708      10000.000000     12250.000000   \n",
       "4          7.457913      9.076574      18750.000000     23550.000000   \n",
       "...             ...           ...               ...              ...   \n",
       "5821       3.587857      6.627635      10000.000000     11500.000000   \n",
       "5822       3.587857      6.627635      10000.000000     11500.000000   \n",
       "5823       3.587857      6.627635      18125.000000     22075.000000   \n",
       "5824       3.587857      6.627635      30384.615385     36084.615385   \n",
       "5825       3.587857      6.627635      10000.000000     11350.000000   \n",
       "\n",
       "      prevloancount  prevgoodcount  probofpay  systemloanid  loannumber  \\\n",
       "0              11.0            8.0   0.727273     301994762          12   \n",
       "1               0.0            0.0   0.000000     301965204           2   \n",
       "2               6.0            5.0   0.833333     301966580           7   \n",
       "3               2.0            0.0   0.000000     301999343           3   \n",
       "4               8.0            8.0   1.000000     301962360           9   \n",
       "...             ...            ...        ...           ...         ...   \n",
       "5821            2.0            2.0   1.000000     301991141           3   \n",
       "5822            2.0            2.0   1.000000     301963018           3   \n",
       "5823            8.0            6.0   0.750000     301994653           9   \n",
       "5824           13.0           13.0   1.000000     301961483          14   \n",
       "5825            5.0            5.0   1.000000     301973097           6   \n",
       "\n",
       "      loanamount  ...  employment_status_clients_Contract  \\\n",
       "0        30000.0  ...                                   0   \n",
       "1        15000.0  ...                                   0   \n",
       "2        20000.0  ...                                   0   \n",
       "3        10000.0  ...                                   0   \n",
       "4        40000.0  ...                                   0   \n",
       "...          ...  ...                                 ...   \n",
       "5821     10000.0  ...                                   0   \n",
       "5822     10000.0  ...                                   0   \n",
       "5823     40000.0  ...                                   0   \n",
       "5824     60000.0  ...                                   0   \n",
       "5825     20000.0  ...                                   0   \n",
       "\n",
       "      employment_status_clients_Others  employment_status_clients_Permanent  \\\n",
       "0                                    0                                    1   \n",
       "1                                    0                                    1   \n",
       "2                                    0                                    1   \n",
       "3                                    0                                    1   \n",
       "4                                    0                                    1   \n",
       "...                                ...                                  ...   \n",
       "5821                                 1                                    0   \n",
       "5822                                 1                                    0   \n",
       "5823                                 1                                    0   \n",
       "5824                                 1                                    0   \n",
       "5825                                 1                                    0   \n",
       "\n",
       "      employment_status_clients_Retired  \\\n",
       "0                                     0   \n",
       "1                                     0   \n",
       "2                                     0   \n",
       "3                                     0   \n",
       "4                                     0   \n",
       "...                                 ...   \n",
       "5821                                  0   \n",
       "5822                                  0   \n",
       "5823                                  0   \n",
       "5824                                  0   \n",
       "5825                                  0   \n",
       "\n",
       "      employment_status_clients_Self-Employed  \\\n",
       "0                                           0   \n",
       "1                                           0   \n",
       "2                                           0   \n",
       "3                                           0   \n",
       "4                                           0   \n",
       "...                                       ...   \n",
       "5821                                        0   \n",
       "5822                                        0   \n",
       "5823                                        0   \n",
       "5824                                        0   \n",
       "5825                                        0   \n",
       "\n",
       "      employment_status_clients_Student  employment_status_clients_Unemployed  \\\n",
       "0                                     0                                     0   \n",
       "1                                     0                                     0   \n",
       "2                                     0                                     0   \n",
       "3                                     0                                     0   \n",
       "4                                     0                                     0   \n",
       "...                                 ...                                   ...   \n",
       "5821                                  0                                     0   \n",
       "5822                                  0                                     0   \n",
       "5823                                  0                                     0   \n",
       "5824                                  0                                     0   \n",
       "5825                                  0                                     0   \n",
       "\n",
       "      loanflag_0.0  loanflag_1.0  loanflag_2.0  \n",
       "0                0             1             0  \n",
       "1                0             0             1  \n",
       "2                0             1             0  \n",
       "3                1             0             0  \n",
       "4                0             1             0  \n",
       "...            ...           ...           ...  \n",
       "5821             0             1             0  \n",
       "5822             0             1             0  \n",
       "5823             1             0             0  \n",
       "5824             0             1             0  \n",
       "5825             0             1             0  \n",
       "\n",
       "[5826 rows x 28 columns]"
      ]
     },
     "execution_count": 58,
     "metadata": {},
     "output_type": "execute_result"
    }
   ],
   "source": [
    "df"
   ]
  },
  {
   "cell_type": "code",
   "execution_count": 59,
   "id": "fe25a230",
   "metadata": {},
   "outputs": [],
   "source": [
    "#convert target column to numerical\n",
    "y_train = y_train.map({'Good':1, 'Bad':0})"
   ]
  },
  {
   "cell_type": "markdown",
   "id": "b1dda94a",
   "metadata": {},
   "source": [
    "## Model Building"
   ]
  },
  {
   "cell_type": "markdown",
   "id": "78b4acfc",
   "metadata": {},
   "source": [
    "- import the neccessary libraries for model model\n",
    "- Build serveral models and choose the best\n",
    "- Use accuracy as the evaluation metrics since ranking is done base percentage of loan one predicts incorrectly ie 1-accuracy_score. This might change depending business objective"
   ]
  },
  {
   "cell_type": "code",
   "execution_count": 60,
   "id": "f689f3ce",
   "metadata": {},
   "outputs": [],
   "source": [
    "from sklearn.ensemble import RandomForestClassifier\n",
    "from sklearn.tree import DecisionTreeClassifier\n",
    "from sklearn.model_selection import cross_val_score\n",
    "from sklearn.metrics import confusion_matrix\n",
    "from sklearn.feature_selection import mutual_info_classif\n",
    "from sklearn.linear_model import LogisticRegression\n",
    "import xgboost as xgb\n",
    "from sklearn.ensemble import VotingClassifier\n",
    "from sklearn.svm import LinearSVC\n",
    "from sklearn.svm import SVC\n",
    "from sklearn.preprocessing import StandardScaler\n",
    "from sklearn.metrics import accuracy_score\n",
    "from sklearn.cluster import KMeans\n",
    "import warnings\n",
    "warnings.simplefilter(action='ignore', category=FutureWarning)\n",
    "warnings.simplefilter(action='ignore', category=UserWarning)"
   ]
  },
  {
   "cell_type": "markdown",
   "id": "999f6cf9",
   "metadata": {},
   "source": [
    "### Build a base model with logisticregressor"
   ]
  },
  {
   "cell_type": "code",
   "execution_count": 61,
   "id": "25eee3a2",
   "metadata": {},
   "outputs": [],
   "source": [
    "# get the train data\n",
    "X = df.loc[0:start_index-1, :]"
   ]
  },
  {
   "cell_type": "code",
   "execution_count": 62,
   "id": "3a6ef64c",
   "metadata": {},
   "outputs": [],
   "source": [
    "## then scale the data\n",
    "scaler = StandardScaler()\n",
    "X_train = scaler.fit_transform(X)"
   ]
  },
  {
   "cell_type": "code",
   "execution_count": 63,
   "id": "5db9a9b4",
   "metadata": {},
   "outputs": [
    {
     "data": {
      "text/plain": [
       "LogisticRegression(random_state=0)"
      ]
     },
     "execution_count": 63,
     "metadata": {},
     "output_type": "execute_result"
    }
   ],
   "source": [
    "## fit a logistics model to train_X\n",
    "log_model = LogisticRegression(random_state=0)\n",
    "log_model.fit(X_train,y_train)"
   ]
  },
  {
   "cell_type": "code",
   "execution_count": 64,
   "id": "7c127444",
   "metadata": {},
   "outputs": [
    {
     "data": {
      "text/plain": [
       "0.7845063985374772"
      ]
     },
     "execution_count": 64,
     "metadata": {},
     "output_type": "execute_result"
    }
   ],
   "source": [
    "#make prediction on train_X\n",
    "accuracy_score(log_model.predict(X_train),y_train)"
   ]
  },
  {
   "cell_type": "code",
   "execution_count": 65,
   "id": "4983c440",
   "metadata": {},
   "outputs": [],
   "source": [
    "#create function to cross_validate on train_set\n",
    "def validate(model, X_train, y_train):\n",
    "    scores = cross_val_score(model,X=X_train,y=y_train,cv=5,scoring='accuracy')\n",
    "    print('The mean score is {}'.format(scores.mean()))\n",
    "    print('The std_deviation is {}'.format(scores.std()))"
   ]
  },
  {
   "cell_type": "code",
   "execution_count": 66,
   "id": "3048b467",
   "metadata": {},
   "outputs": [
    {
     "name": "stdout",
     "output_type": "stream",
     "text": [
      "The mean score is 0.78222100456621\n",
      "The std_deviation is 0.006732154386627488\n"
     ]
    }
   ],
   "source": [
    "validate(log_model,X_train,y_train)"
   ]
  },
  {
   "cell_type": "markdown",
   "id": "c1b65d82",
   "metadata": {},
   "source": [
    "### More Feature Engineering"
   ]
  },
  {
   "cell_type": "markdown",
   "id": "5d565ae8",
   "metadata": {},
   "source": [
    "The base model gave us an accuracy score of 78%. \n",
    "Lets perform a little feature engineering and check if there will be an improvement.\n",
    "Since from the latitude longitude scatter plot, the locations seems to clustered at specific point, It might be good to group the different customers based on location."
   ]
  },
  {
   "cell_type": "code",
   "execution_count": 67,
   "id": "2a20e6e0",
   "metadata": {},
   "outputs": [],
   "source": [
    "#get a copy of X_base\n",
    "X_1 = X.copy()"
   ]
  },
  {
   "cell_type": "code",
   "execution_count": 68,
   "id": "e9fa5dae",
   "metadata": {},
   "outputs": [],
   "source": [
    "# use K-means algorithm to group the customers into 4.\n",
    "kmeans = KMeans(n_clusters=4)\n",
    "loc_X = X_1.loc[:,['longitude_gps', 'latitude_gps']]\n",
    "X_1['loc_group'] = kmeans.fit_predict(loc_X)"
   ]
  },
  {
   "cell_type": "code",
   "execution_count": 69,
   "id": "cfffc96f",
   "metadata": {},
   "outputs": [],
   "source": [
    "X_1 = X_1.drop(['longitude_gps', 'latitude_gps'], axis=1)\n",
    "#get dummies of the locations\n",
    "X_1 = pd.get_dummies(data=X_1,columns=['loc_group'])"
   ]
  },
  {
   "cell_type": "code",
   "execution_count": 70,
   "id": "baf0e2f7",
   "metadata": {},
   "outputs": [
    {
     "data": {
      "text/plain": [
       "0.7858775137111518"
      ]
     },
     "execution_count": 70,
     "metadata": {},
     "output_type": "execute_result"
    }
   ],
   "source": [
    "X_2 = scaler.fit_transform(X_1)\n",
    "log_model.fit(X_2,y_train)\n",
    "accuracy_score(log_model.predict(X_2),y_train)"
   ]
  },
  {
   "cell_type": "code",
   "execution_count": 71,
   "id": "b281e2af",
   "metadata": {},
   "outputs": [
    {
     "name": "stdout",
     "output_type": "stream",
     "text": [
      "The mean score is 0.7801643835616437\n",
      "The std_deviation is 0.005723735584899494\n"
     ]
    }
   ],
   "source": [
    "validate(log_model,X_2,y_train)"
   ]
  },
  {
   "cell_type": "markdown",
   "id": "7768d72a",
   "metadata": {},
   "source": [
    "Well, the hypothesis is wrong as the model didnt improve"
   ]
  },
  {
   "cell_type": "markdown",
   "id": "29bb5221",
   "metadata": {},
   "source": [
    "### Build Model Using LinearSVC"
   ]
  },
  {
   "cell_type": "code",
   "execution_count": 72,
   "id": "d7865af1",
   "metadata": {},
   "outputs": [
    {
     "data": {
      "text/plain": [
       "LinearSVC(random_state=0)"
      ]
     },
     "execution_count": 72,
     "metadata": {},
     "output_type": "execute_result"
    }
   ],
   "source": [
    "svc_clf = LinearSVC(random_state=0)\n",
    "svc_clf.fit(X_train,y_train)"
   ]
  },
  {
   "cell_type": "code",
   "execution_count": 73,
   "id": "44ea3ac6",
   "metadata": {},
   "outputs": [
    {
     "data": {
      "text/plain": [
       "0.7845063985374772"
      ]
     },
     "execution_count": 73,
     "metadata": {},
     "output_type": "execute_result"
    }
   ],
   "source": [
    "accuracy_score(svc_clf.predict(X_train),y_train)"
   ]
  },
  {
   "cell_type": "code",
   "execution_count": 74,
   "id": "e17d0e29",
   "metadata": {},
   "outputs": [
    {
     "name": "stdout",
     "output_type": "stream",
     "text": [
      "The mean score is 0.7803929549902152\n",
      "The std_deviation is 0.00606740053182438\n"
     ]
    }
   ],
   "source": [
    "validate(svc_clf,X_train,y_train)"
   ]
  },
  {
   "cell_type": "markdown",
   "id": "00478955",
   "metadata": {},
   "source": [
    "### Build Model using kernal-based SVC"
   ]
  },
  {
   "cell_type": "code",
   "execution_count": 75,
   "id": "799ffbd2",
   "metadata": {},
   "outputs": [
    {
     "data": {
      "text/plain": [
       "SVC(probability=True)"
      ]
     },
     "execution_count": 75,
     "metadata": {},
     "output_type": "execute_result"
    }
   ],
   "source": [
    "ksvc =  SVC(kernel='rbf', probability=True)\n",
    "ksvc.fit(X_train,y_train)"
   ]
  },
  {
   "cell_type": "code",
   "execution_count": 76,
   "id": "6fa1deea",
   "metadata": {},
   "outputs": [
    {
     "data": {
      "text/plain": [
       "0.7879341864716636"
      ]
     },
     "execution_count": 76,
     "metadata": {},
     "output_type": "execute_result"
    }
   ],
   "source": [
    "accuracy_score(ksvc.predict(X_train),y_train)"
   ]
  },
  {
   "cell_type": "code",
   "execution_count": 77,
   "id": "8cf31ab8",
   "metadata": {},
   "outputs": [
    {
     "name": "stdout",
     "output_type": "stream",
     "text": [
      "The mean score is 0.7819921722113503\n",
      "The std_deviation is 0.003742362522117107\n"
     ]
    }
   ],
   "source": [
    "validate(ksvc,X_train,y_train)"
   ]
  },
  {
   "cell_type": "markdown",
   "id": "2f0f8ba6",
   "metadata": {},
   "source": [
    "### Build Model Using DecisionTree Classifier"
   ]
  },
  {
   "cell_type": "code",
   "execution_count": 78,
   "id": "d83a2450",
   "metadata": {},
   "outputs": [
    {
     "data": {
      "text/plain": [
       "DecisionTreeClassifier(max_depth=4, random_state=0)"
      ]
     },
     "execution_count": 78,
     "metadata": {},
     "output_type": "execute_result"
    }
   ],
   "source": [
    "tree_model = DecisionTreeClassifier(random_state=0, max_depth=4)\n",
    "tree_model.fit(X_train,y_train)"
   ]
  },
  {
   "cell_type": "code",
   "execution_count": 79,
   "id": "a39a32e0",
   "metadata": {},
   "outputs": [
    {
     "data": {
      "text/plain": [
       "0.7826782449725777"
      ]
     },
     "execution_count": 79,
     "metadata": {},
     "output_type": "execute_result"
    }
   ],
   "source": [
    "accuracy_score(tree_model.predict(X_train),y_train)"
   ]
  },
  {
   "cell_type": "code",
   "execution_count": 80,
   "id": "61251d81",
   "metadata": {},
   "outputs": [
    {
     "name": "stdout",
     "output_type": "stream",
     "text": [
      "The mean score is 0.7790223091976517\n",
      "The std_deviation is 0.004230958795310819\n"
     ]
    }
   ],
   "source": [
    "validate(tree_model,X_train,y_train)"
   ]
  },
  {
   "cell_type": "markdown",
   "id": "bfb5dbee",
   "metadata": {},
   "source": [
    "## Build Model Using Random forest"
   ]
  },
  {
   "cell_type": "code",
   "execution_count": 81,
   "id": "2a6d9d30",
   "metadata": {},
   "outputs": [
    {
     "data": {
      "text/plain": [
       "RandomForestClassifier(max_depth=4, random_state=0)"
      ]
     },
     "execution_count": 81,
     "metadata": {},
     "output_type": "execute_result"
    }
   ],
   "source": [
    "forest = RandomForestClassifier(n_estimators = 100,random_state=0,max_depth=4)\n",
    "forest.fit(X_train,y_train)"
   ]
  },
  {
   "cell_type": "code",
   "execution_count": 82,
   "id": "b6d6b113",
   "metadata": {},
   "outputs": [
    {
     "data": {
      "text/plain": [
       "0.7842778793418648"
      ]
     },
     "execution_count": 82,
     "metadata": {},
     "output_type": "execute_result"
    }
   ],
   "source": [
    "accuracy_score(forest.predict(X_train),y_train)"
   ]
  },
  {
   "cell_type": "code",
   "execution_count": 83,
   "id": "f223f57b",
   "metadata": {},
   "outputs": [
    {
     "name": "stdout",
     "output_type": "stream",
     "text": [
      "The mean score is 0.7824495759947814\n",
      "The std_deviation is 0.0009439682771054686\n"
     ]
    }
   ],
   "source": [
    "validate(forest,X_train,y_train)"
   ]
  },
  {
   "cell_type": "markdown",
   "id": "4c964826",
   "metadata": {},
   "source": [
    "## Build Model using XGB"
   ]
  },
  {
   "cell_type": "code",
   "execution_count": 84,
   "id": "98442252",
   "metadata": {},
   "outputs": [
    {
     "data": {
      "text/plain": [
       "XGBClassifier(base_score=0.5, booster='gbtree', colsample_bylevel=1,\n",
       "              colsample_bynode=1, colsample_bytree=1, enable_categorical=False,\n",
       "              eval_metric='error', gamma=0, gpu_id=-1, importance_type=None,\n",
       "              interaction_constraints='', learning_rate=0.1, max_delta_step=0,\n",
       "              max_depth=2, min_child_weight=1, missing=nan,\n",
       "              monotone_constraints='()', n_estimators=300, n_jobs=4,\n",
       "              num_parallel_tree=1, predictor='auto', random_state=0,\n",
       "              reg_alpha=0, reg_lambda=1, scale_pos_weight=1, subsample=1,\n",
       "              tree_method='exact', validate_parameters=1, verbosity=None)"
      ]
     },
     "execution_count": 84,
     "metadata": {},
     "output_type": "execute_result"
    }
   ],
   "source": [
    "xgb_clf = xgb.XGBClassifier(eval_metric = 'error', max_depth = 2,learning_rate=0.1, n_estimators=300)\n",
    "xgb_clf.fit(X_train,y_train)"
   ]
  },
  {
   "cell_type": "code",
   "execution_count": 85,
   "id": "858bbda1",
   "metadata": {},
   "outputs": [
    {
     "data": {
      "text/plain": [
       "0.8089579524680073"
      ]
     },
     "execution_count": 85,
     "metadata": {},
     "output_type": "execute_result"
    }
   ],
   "source": [
    "accuracy_score(xgb_clf.predict(X_train),y_train)"
   ]
  },
  {
   "cell_type": "code",
   "execution_count": 86,
   "id": "2c87689e",
   "metadata": {},
   "outputs": [
    {
     "name": "stdout",
     "output_type": "stream",
     "text": [
      "The mean score is 0.7881620352250489\n",
      "The std_deviation is 0.0027159466782120524\n"
     ]
    }
   ],
   "source": [
    "validate(xgb_clf,X_train,y_train)"
   ]
  },
  {
   "cell_type": "markdown",
   "id": "8ce904a6",
   "metadata": {},
   "source": [
    "### Build model using a voting classifier"
   ]
  },
  {
   "cell_type": "code",
   "execution_count": 87,
   "id": "e56cd1ce",
   "metadata": {},
   "outputs": [
    {
     "data": {
      "text/plain": [
       "VotingClassifier(estimators=[('log', LogisticRegression(random_state=0)),\n",
       "                             ('svc', SVC(probability=True)),\n",
       "                             ('forest',\n",
       "                              RandomForestClassifier(max_depth=4,\n",
       "                                                     random_state=0)),\n",
       "                             ('xgb',\n",
       "                              XGBClassifier(base_score=0.5, booster='gbtree',\n",
       "                                            colsample_bylevel=1,\n",
       "                                            colsample_bynode=1,\n",
       "                                            colsample_bytree=1,\n",
       "                                            enable_categorical=False,\n",
       "                                            eval_metric='error', gamma=0,\n",
       "                                            gpu_id=-1, importance_type=None,\n",
       "                                            interaction_constraints='',\n",
       "                                            learning_rate=0.1, max_delta_step=0,\n",
       "                                            max_depth=2, min_child_weight=1,\n",
       "                                            missing=nan,\n",
       "                                            monotone_constraints='()',\n",
       "                                            n_estimators=300, n_jobs=4,\n",
       "                                            num_parallel_tree=1,\n",
       "                                            predictor='auto', random_state=0,\n",
       "                                            reg_alpha=0, reg_lambda=1,\n",
       "                                            scale_pos_weight=1, subsample=1,\n",
       "                                            tree_method='exact',\n",
       "                                            validate_parameters=1,\n",
       "                                            verbosity=None))],\n",
       "                 voting='soft')"
      ]
     },
     "execution_count": 87,
     "metadata": {},
     "output_type": "execute_result"
    }
   ],
   "source": [
    "voting_clf = VotingClassifier(estimators=[('log',log_model),('svc',ksvc),('forest',forest),('xgb',xgb_clf)],\n",
    "                             voting='soft')\n",
    "voting_clf.fit(X_train,y_train)"
   ]
  },
  {
   "cell_type": "code",
   "execution_count": 88,
   "id": "3beb3bce",
   "metadata": {},
   "outputs": [
    {
     "data": {
      "text/plain": [
       "0.7922760511882998"
      ]
     },
     "execution_count": 88,
     "metadata": {},
     "output_type": "execute_result"
    }
   ],
   "source": [
    "accuracy_score(voting_clf.predict(X_train),y_train)"
   ]
  },
  {
   "cell_type": "code",
   "execution_count": 89,
   "id": "b9b1e2b5",
   "metadata": {},
   "outputs": [
    {
     "name": "stdout",
     "output_type": "stream",
     "text": [
      "The mean score is 0.7840482713633399\n",
      "The std_deviation is 0.005592418839205484\n"
     ]
    }
   ],
   "source": [
    "validate(voting_clf,X_train,y_train)"
   ]
  },
  {
   "cell_type": "markdown",
   "id": "6826335b",
   "metadata": {},
   "source": [
    "From the above, the xgb classifier gave te best model.\n",
    "Note: this model canbe further improved by more hyperparameter tuning using grid search. I did not implent here because of the computional cost"
   ]
  },
  {
   "cell_type": "markdown",
   "id": "68446e3c",
   "metadata": {},
   "source": [
    "## Prepare For Submission"
   ]
  },
  {
   "cell_type": "code",
   "execution_count": 90,
   "id": "eb012922",
   "metadata": {},
   "outputs": [],
   "source": [
    "X_test = df.loc[start_index:end_index, :]"
   ]
  },
  {
   "cell_type": "code",
   "execution_count": 91,
   "id": "6f233ec4",
   "metadata": {},
   "outputs": [
    {
     "data": {
      "text/html": [
       "<div>\n",
       "<style scoped>\n",
       "    .dataframe tbody tr th:only-of-type {\n",
       "        vertical-align: middle;\n",
       "    }\n",
       "\n",
       "    .dataframe tbody tr th {\n",
       "        vertical-align: top;\n",
       "    }\n",
       "\n",
       "    .dataframe thead th {\n",
       "        text-align: right;\n",
       "    }\n",
       "</style>\n",
       "<table border=\"1\" class=\"dataframe\">\n",
       "  <thead>\n",
       "    <tr style=\"text-align: right;\">\n",
       "      <th></th>\n",
       "      <th>customerid</th>\n",
       "      <th>Good_Bad_flag</th>\n",
       "    </tr>\n",
       "  </thead>\n",
       "  <tbody>\n",
       "    <tr>\n",
       "      <th>0</th>\n",
       "      <td>8a28afc7474813a40147639ec637156b</td>\n",
       "      <td>1</td>\n",
       "    </tr>\n",
       "    <tr>\n",
       "      <th>1</th>\n",
       "      <td>8a3735d5518aba7301518ac34413010d</td>\n",
       "      <td>1</td>\n",
       "    </tr>\n",
       "    <tr>\n",
       "      <th>2</th>\n",
       "      <td>8a76e7d443e6e97c0143ed099d102b1d</td>\n",
       "      <td>1</td>\n",
       "    </tr>\n",
       "    <tr>\n",
       "      <th>3</th>\n",
       "      <td>8a818823525dceef01525deda2480384</td>\n",
       "      <td>1</td>\n",
       "    </tr>\n",
       "    <tr>\n",
       "      <th>4</th>\n",
       "      <td>8a818926522ea5ef01523aff15c37482</td>\n",
       "      <td>1</td>\n",
       "    </tr>\n",
       "  </tbody>\n",
       "</table>\n",
       "</div>"
      ],
      "text/plain": [
       "                         customerid  Good_Bad_flag\n",
       "0  8a28afc7474813a40147639ec637156b              1\n",
       "1  8a3735d5518aba7301518ac34413010d              1\n",
       "2  8a76e7d443e6e97c0143ed099d102b1d              1\n",
       "3  8a818823525dceef01525deda2480384              1\n",
       "4  8a818926522ea5ef01523aff15c37482              1"
      ]
     },
     "execution_count": 91,
     "metadata": {},
     "output_type": "execute_result"
    }
   ],
   "source": [
    "#see sample submission\n",
    "pd.read_csv('loan datasets/SampleSubmission.csv').head()"
   ]
  },
  {
   "cell_type": "code",
   "execution_count": 92,
   "id": "556b52c6",
   "metadata": {},
   "outputs": [],
   "source": [
    "#pred on X_test\n",
    "y_pred = xgb_clf.predict(scaler.fit_transform(X_test))"
   ]
  },
  {
   "cell_type": "code",
   "execution_count": 93,
   "id": "fc3bd120",
   "metadata": {},
   "outputs": [],
   "source": [
    "sub_df = pd.DataFrame({'customerid':test_df.customerid,'Good_Bad_flag':y_pred})"
   ]
  },
  {
   "cell_type": "code",
   "execution_count": 94,
   "id": "3e907747",
   "metadata": {},
   "outputs": [],
   "source": [
    "sub_df.to_csv('loan_predictions.csv', index=False)"
   ]
  },
  {
   "cell_type": "markdown",
   "id": "a2b0d6bd",
   "metadata": {},
   "source": [
    "## Documentation"
   ]
  },
  {
   "cell_type": "markdown",
   "id": "f6e920cd",
   "metadata": {},
   "source": [
    "- I was able to learn what a real life machine learning project looks like. By real-life, I mean having data stored in different tables of a database and having to look for a way to aggregate those tables into a single table for modeling. Here I had customer demographics table, previous loan table and then the performance table to predict.\n",
    "- Having a strong domain knowledge about a task is necessary for a successful model.\n",
    "- Evaluation metrics strongly depends on the business objective. I used accuracy since the results are graded using accuracy score."
   ]
  },
  {
   "cell_type": "code",
   "execution_count": null,
   "id": "4179f886",
   "metadata": {},
   "outputs": [],
   "source": []
  }
 ],
 "metadata": {
  "kernelspec": {
   "display_name": "Python 3",
   "language": "python",
   "name": "python3"
  },
  "language_info": {
   "codemirror_mode": {
    "name": "ipython",
    "version": 3
   },
   "file_extension": ".py",
   "mimetype": "text/x-python",
   "name": "python",
   "nbconvert_exporter": "python",
   "pygments_lexer": "ipython3",
   "version": "3.8.8"
  }
 },
 "nbformat": 4,
 "nbformat_minor": 5
}
